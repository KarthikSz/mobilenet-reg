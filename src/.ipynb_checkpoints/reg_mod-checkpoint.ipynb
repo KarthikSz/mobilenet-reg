{
 "cells": [
  {
   "cell_type": "code",
   "execution_count": 3,
   "id": "egyptian-significance",
   "metadata": {},
   "outputs": [],
   "source": [
    "import matplotlib"
   ]
  },
  {
   "cell_type": "code",
   "execution_count": 2,
   "id": "sunrise-houston",
   "metadata": {},
   "outputs": [],
   "source": [
    "import sys\n",
    "#Rename according to your virtual - env name\n",
    "sys.path.append('/usr/local/anaconda3/envs/mob-reg/lib/python3.7/site-packages')"
   ]
  },
  {
   "cell_type": "code",
   "execution_count": 4,
   "id": "stopped-field",
   "metadata": {},
   "outputs": [],
   "source": [
    "import tensorflow as tf"
   ]
  },
  {
   "cell_type": "markdown",
   "id": "fundamental-opera",
   "metadata": {},
   "source": [
    "# Extracting VGG keypoints trial"
   ]
  },
  {
   "cell_type": "code",
   "execution_count": null,
   "id": "exceptional-relation",
   "metadata": {},
   "outputs": [],
   "source": [
    "from __future__ import print_function\n",
    "import Registration\n",
    "import matplotlib.pyplot as plt\n",
    "from utils.utils import *\n",
    "import cv2\n",
    "\n",
    "# designate image path here\n",
    "IX_path = '/Users/karthik/Downloads/a.jpg'\n",
    "IY_path = '/Users/karthik/Downloads/b.jpg'\n",
    "\n",
    "IX = cv2.imread(IX_path)\n",
    "IY = cv2.imread(IY_path)\n",
    "print(IX)\n",
    "#initialize\n",
    "reg = Registration.CNN()\n",
    "#register\n",
    "X, Y, Z = reg.register(IX, IY)\n",
    "#generate regsitered image using TPS\n",
    "registered = tps_warp(Y, Z, IY, IX.shape)\n",
    "cb = checkboard(IX, registered, 11)\n",
    "\n",
    "plt.subplot(141)\n",
    "plt.title('reference')\n",
    "plt.imshow(cv2.cvtColor(IX, cv2.COLOR_BGR2RGB))\n",
    "\n",
    "plt.subplot(142)\n",
    "plt.title('other')\n",
    "plt.imshow(cv2.cvtColor(IY, cv2.COLOR_BGR2RGB))\n",
    "\n",
    "plt.subplot(143)\n",
    "plt.title('registered')\n",
    "plt.imshow(cv2.cvtColor(registered, cv2.COLOR_BGR2RGB))\n",
    "plt.subplot(144)\n",
    "plt.title('checkboard')\n",
    "plt.imshow(cv2.cvtColor(cb, cv2.COLOR_BGR2RGB))\n",
    "\n",
    "plt.show()"
   ]
  },
  {
   "cell_type": "code",
   "execution_count": null,
   "id": "interim-audio",
   "metadata": {},
   "outputs": [],
   "source": [
    "from __future__ import print_function\n",
    "import Registration2\n",
    "import matplotlib.pyplot as plt\n",
    "from utils.utils import *\n",
    "import cv2\n",
    "\n",
    "# designate image path here\n",
    "IX_path = '/Users/karthik/Downloads/a.jpg'\n",
    "IY_path = '/Users/karthik/Downloads/b.jpg'\n",
    "\n",
    "IX = cv2.imread(IX_path)\n",
    "IY = cv2.imread(IY_path)\n",
    "print(IX)\n",
    "#initialize\n",
    "reg = Registration2.CNN()\n",
    "#register\n",
    "hello= reg.register(IX, IY)\n"
   ]
  },
  {
   "cell_type": "code",
   "execution_count": null,
   "id": "referenced-communication",
   "metadata": {},
   "outputs": [],
   "source": [
    "import Registration2"
   ]
  },
  {
   "cell_type": "code",
   "execution_count": null,
   "id": "limiting-divorce",
   "metadata": {},
   "outputs": [],
   "source": [
    "A.shape"
   ]
  },
  {
   "cell_type": "code",
   "execution_count": null,
   "id": "vulnerable-mistake",
   "metadata": {},
   "outputs": [],
   "source": [
    "F.shape"
   ]
  },
  {
   "cell_type": "code",
   "execution_count": null,
   "id": "italic-procedure",
   "metadata": {},
   "outputs": [],
   "source": [
    "reg.register(IX, IY)[2].shape"
   ]
  },
  {
   "cell_type": "code",
   "execution_count": null,
   "id": "frank-regulation",
   "metadata": {},
   "outputs": [],
   "source": [
    "IX.shape"
   ]
  },
  {
   "cell_type": "code",
   "execution_count": null,
   "id": "marked-reset",
   "metadata": {},
   "outputs": [],
   "source": [
    "np.expand_dims(IX, axis=0).shape"
   ]
  },
  {
   "cell_type": "code",
   "execution_count": null,
   "id": "chemical-plant",
   "metadata": {},
   "outputs": [],
   "source": [
    "np.concatenate((np.expand_dims(IY, axis=0),np.expand_dims(IY, axis=0)),axis=0).shape"
   ]
  },
  {
   "cell_type": "code",
   "execution_count": null,
   "id": "imported-bleeding",
   "metadata": {},
   "outputs": [],
   "source": [
    "reg.register(IX, IY)"
   ]
  },
  {
   "cell_type": "code",
   "execution_count": null,
   "id": "urban-weight",
   "metadata": {},
   "outputs": [],
   "source": [
    "F.shape"
   ]
  },
  {
   "cell_type": "code",
   "execution_count": null,
   "id": "instant-emission",
   "metadata": {},
   "outputs": [],
   "source": [
    "F[48]"
   ]
  },
  {
   "cell_type": "code",
   "execution_count": null,
   "id": "controlled-prime",
   "metadata": {},
   "outputs": [],
   "source": [
    "import cv2 as cv"
   ]
  },
  {
   "cell_type": "code",
   "execution_count": null,
   "id": "digital-creek",
   "metadata": {},
   "outputs": [],
   "source": [
    "akaze = cv.AKAZE_create()\n",
    "# Find the keypoints and descriptors with SIFT\n",
    "kp1, des1 = akaze.detectAndCompute(IX, None)\n",
    "kp2, des2 = akaze.detectAndCompute(IY, None)"
   ]
  },
  {
   "cell_type": "code",
   "execution_count": null,
   "id": "adult-cross",
   "metadata": {},
   "outputs": [],
   "source": [
    "IX.shape"
   ]
  },
  {
   "cell_type": "code",
   "execution_count": null,
   "id": "biological-juice",
   "metadata": {},
   "outputs": [],
   "source": [
    "type(kp1)"
   ]
  },
  {
   "cell_type": "code",
   "execution_count": null,
   "id": "stainless-shooting",
   "metadata": {},
   "outputs": [],
   "source": [
    "des1.shape"
   ]
  },
  {
   "cell_type": "code",
   "execution_count": null,
   "id": "residential-great",
   "metadata": {},
   "outputs": [],
   "source": [
    "hello[0].shape"
   ]
  },
  {
   "cell_type": "code",
   "execution_count": null,
   "id": "laughing-porter",
   "metadata": {},
   "outputs": [],
   "source": [
    "hello[5].shape"
   ]
  },
  {
   "cell_type": "code",
   "execution_count": null,
   "id": "developed-palestinian",
   "metadata": {},
   "outputs": [],
   "source": [
    "bf = cv.BFMatcher()\n",
    "matches = bf.knnMatch(hello[4], hello[5], k=2)"
   ]
  },
  {
   "cell_type": "code",
   "execution_count": null,
   "id": "located-reputation",
   "metadata": {},
   "outputs": [],
   "source": [
    "good_matches = []\n",
    "for m,n in matches:\n",
    "    if m.distance < 0.75*n.distance:\n",
    "        good_matches.append([m])"
   ]
  },
  {
   "cell_type": "code",
   "execution_count": null,
   "id": "surprising-formation",
   "metadata": {},
   "outputs": [],
   "source": [
    "img3 = cv.drawMatchesKnn(IX,kp1,IY,kp2,good_matches,None,flags=cv.DrawMatchesFlags_NOT_DRAW_SINGLE_POINTS)\n",
    "cv.imwrite('matches.jpg', img3)"
   ]
  },
  {
   "cell_type": "code",
   "execution_count": null,
   "id": "atomic-cigarette",
   "metadata": {},
   "outputs": [],
   "source": [
    "plt.imshow(img3)"
   ]
  },
  {
   "cell_type": "markdown",
   "id": "elect-winner",
   "metadata": {},
   "source": [
    "# Mobilenet Implementation with keras"
   ]
  },
  {
   "cell_type": "code",
   "execution_count": 5,
   "id": "concrete-israel",
   "metadata": {},
   "outputs": [],
   "source": [
    "import keras\n",
    "from keras import backend as K\n",
    "from keras.layers.core import Dense, Activation\n",
    "from keras.optimizers import Adam\n",
    "from keras.metrics import categorical_crossentropy\n",
    "from keras.preprocessing.image import ImageDataGenerator\n",
    "from keras.preprocessing import image\n",
    "from keras.models import Model\n",
    "from keras.applications import imagenet_utils\n",
    "from keras.layers import Dense,GlobalAveragePooling2D\n",
    "from keras.applications import MobileNet\n",
    "from keras.applications.mobilenet import preprocess_input\n",
    "import numpy as np\n",
    "from IPython.display import Image\n",
    "from keras.optimizers import Adam"
   ]
  },
  {
   "cell_type": "code",
   "execution_count": 6,
   "id": "binding-concord",
   "metadata": {},
   "outputs": [
    {
     "data": {
      "text/plain": [
       "'2.4.1'"
      ]
     },
     "execution_count": 6,
     "metadata": {},
     "output_type": "execute_result"
    }
   ],
   "source": [
    "tf.__version__"
   ]
  },
  {
   "cell_type": "markdown",
   "id": "southern-bacteria",
   "metadata": {},
   "source": [
    "## Preprocessing"
   ]
  },
  {
   "cell_type": "code",
   "execution_count": 7,
   "id": "demonstrated-profession",
   "metadata": {},
   "outputs": [],
   "source": [
    "import keras"
   ]
  },
  {
   "cell_type": "code",
   "execution_count": 8,
   "id": "artistic-cemetery",
   "metadata": {},
   "outputs": [],
   "source": [
    "from PIL import Image, ImageDraw"
   ]
  },
  {
   "cell_type": "code",
   "execution_count": 9,
   "id": "demographic-indianapolis",
   "metadata": {},
   "outputs": [],
   "source": [
    "mobile = keras.applications.mobilenet.MobileNet()\n",
    "def prepare_image(file):\n",
    "    img_path = '/Users/karthik/Downloads/'\n",
    "    img = image.load_img(img_path + file, target_size=(224, 224))\n",
    "    img_array = image.img_to_array(img)\n",
    "    img_array_expanded_dims = np.expand_dims(img_array, axis=0)\n",
    "    return keras.applications.mobilenet.preprocess_input(img_array_expanded_dims)"
   ]
  },
  {
   "cell_type": "code",
   "execution_count": 10,
   "id": "liked-hygiene",
   "metadata": {},
   "outputs": [
    {
     "data": {
      "text/plain": [
       "[[('n04532670', 'viaduct', 0.17268583),\n",
       "  ('n04238763', 'slide_rule', 0.09660436),\n",
       "  ('n06874185', 'traffic_light', 0.056954674),\n",
       "  ('n03160309', 'dam', 0.04617933),\n",
       "  ('n03095699', 'container_ship', 0.04171583)]]"
      ]
     },
     "execution_count": 10,
     "metadata": {},
     "output_type": "execute_result"
    }
   ],
   "source": [
    "preprocessed_image = prepare_image('b.jpg')\n",
    "predictions = mobile.predict(preprocessed_image)\n",
    "results = imagenet_utils.decode_predictions(predictions)\n",
    "results"
   ]
  },
  {
   "cell_type": "code",
   "execution_count": 11,
   "id": "robust-belfast",
   "metadata": {},
   "outputs": [],
   "source": [
    "img_path = '/Users/karthik/Downloads/'\n",
    "img = image.load_img(img_path + 'a.jpg', target_size=(224, 224))\n",
    "img_array = image.img_to_array(img)\n",
    "img_array_expanded_dims = np.expand_dims(img_array, axis=0)"
   ]
  },
  {
   "cell_type": "code",
   "execution_count": 12,
   "id": "cardiac-trainer",
   "metadata": {},
   "outputs": [
    {
     "data": {
      "text/plain": [
       "(224, 224, 3)"
      ]
     },
     "execution_count": 12,
     "metadata": {},
     "output_type": "execute_result"
    }
   ],
   "source": [
    "img_array.shape"
   ]
  },
  {
   "cell_type": "code",
   "execution_count": 13,
   "id": "military-perry",
   "metadata": {},
   "outputs": [
    {
     "data": {
      "text/plain": [
       "(1, 224, 224, 3)"
      ]
     },
     "execution_count": 13,
     "metadata": {},
     "output_type": "execute_result"
    }
   ],
   "source": [
    "img_array_expanded_dims.shape"
   ]
  },
  {
   "cell_type": "code",
   "execution_count": 14,
   "id": "convinced-works",
   "metadata": {},
   "outputs": [
    {
     "data": {
      "text/plain": [
       "(224, 224, 3)"
      ]
     },
     "execution_count": 14,
     "metadata": {},
     "output_type": "execute_result"
    }
   ],
   "source": [
    "img_array.shape"
   ]
  },
  {
   "cell_type": "code",
   "execution_count": 15,
   "id": "three-fireplace",
   "metadata": {
    "scrolled": true
   },
   "outputs": [
    {
     "name": "stdout",
     "output_type": "stream",
     "text": [
      "Model: \"mobilenet_1.00_224\"\n",
      "_________________________________________________________________\n",
      "Layer (type)                 Output Shape              Param #   \n",
      "=================================================================\n",
      "input_1 (InputLayer)         [(None, 224, 224, 3)]     0         \n",
      "_________________________________________________________________\n",
      "conv1 (Conv2D)               (None, 112, 112, 32)      864       \n",
      "_________________________________________________________________\n",
      "conv1_bn (BatchNormalization (None, 112, 112, 32)      128       \n",
      "_________________________________________________________________\n",
      "conv1_relu (ReLU)            (None, 112, 112, 32)      0         \n",
      "_________________________________________________________________\n",
      "conv_dw_1 (DepthwiseConv2D)  (None, 112, 112, 32)      288       \n",
      "_________________________________________________________________\n",
      "conv_dw_1_bn (BatchNormaliza (None, 112, 112, 32)      128       \n",
      "_________________________________________________________________\n",
      "conv_dw_1_relu (ReLU)        (None, 112, 112, 32)      0         \n",
      "_________________________________________________________________\n",
      "conv_pw_1 (Conv2D)           (None, 112, 112, 64)      2048      \n",
      "_________________________________________________________________\n",
      "conv_pw_1_bn (BatchNormaliza (None, 112, 112, 64)      256       \n",
      "_________________________________________________________________\n",
      "conv_pw_1_relu (ReLU)        (None, 112, 112, 64)      0         \n",
      "_________________________________________________________________\n",
      "conv_pad_2 (ZeroPadding2D)   (None, 113, 113, 64)      0         \n",
      "_________________________________________________________________\n",
      "conv_dw_2 (DepthwiseConv2D)  (None, 56, 56, 64)        576       \n",
      "_________________________________________________________________\n",
      "conv_dw_2_bn (BatchNormaliza (None, 56, 56, 64)        256       \n",
      "_________________________________________________________________\n",
      "conv_dw_2_relu (ReLU)        (None, 56, 56, 64)        0         \n",
      "_________________________________________________________________\n",
      "conv_pw_2 (Conv2D)           (None, 56, 56, 128)       8192      \n",
      "_________________________________________________________________\n",
      "conv_pw_2_bn (BatchNormaliza (None, 56, 56, 128)       512       \n",
      "_________________________________________________________________\n",
      "conv_pw_2_relu (ReLU)        (None, 56, 56, 128)       0         \n",
      "_________________________________________________________________\n",
      "conv_dw_3 (DepthwiseConv2D)  (None, 56, 56, 128)       1152      \n",
      "_________________________________________________________________\n",
      "conv_dw_3_bn (BatchNormaliza (None, 56, 56, 128)       512       \n",
      "_________________________________________________________________\n",
      "conv_dw_3_relu (ReLU)        (None, 56, 56, 128)       0         \n",
      "_________________________________________________________________\n",
      "conv_pw_3 (Conv2D)           (None, 56, 56, 128)       16384     \n",
      "_________________________________________________________________\n",
      "conv_pw_3_bn (BatchNormaliza (None, 56, 56, 128)       512       \n",
      "_________________________________________________________________\n",
      "conv_pw_3_relu (ReLU)        (None, 56, 56, 128)       0         \n",
      "_________________________________________________________________\n",
      "conv_pad_4 (ZeroPadding2D)   (None, 57, 57, 128)       0         \n",
      "_________________________________________________________________\n",
      "conv_dw_4 (DepthwiseConv2D)  (None, 28, 28, 128)       1152      \n",
      "_________________________________________________________________\n",
      "conv_dw_4_bn (BatchNormaliza (None, 28, 28, 128)       512       \n",
      "_________________________________________________________________\n",
      "conv_dw_4_relu (ReLU)        (None, 28, 28, 128)       0         \n",
      "_________________________________________________________________\n",
      "conv_pw_4 (Conv2D)           (None, 28, 28, 256)       32768     \n",
      "_________________________________________________________________\n",
      "conv_pw_4_bn (BatchNormaliza (None, 28, 28, 256)       1024      \n",
      "_________________________________________________________________\n",
      "conv_pw_4_relu (ReLU)        (None, 28, 28, 256)       0         \n",
      "_________________________________________________________________\n",
      "conv_dw_5 (DepthwiseConv2D)  (None, 28, 28, 256)       2304      \n",
      "_________________________________________________________________\n",
      "conv_dw_5_bn (BatchNormaliza (None, 28, 28, 256)       1024      \n",
      "_________________________________________________________________\n",
      "conv_dw_5_relu (ReLU)        (None, 28, 28, 256)       0         \n",
      "_________________________________________________________________\n",
      "conv_pw_5 (Conv2D)           (None, 28, 28, 256)       65536     \n",
      "_________________________________________________________________\n",
      "conv_pw_5_bn (BatchNormaliza (None, 28, 28, 256)       1024      \n",
      "_________________________________________________________________\n",
      "conv_pw_5_relu (ReLU)        (None, 28, 28, 256)       0         \n",
      "_________________________________________________________________\n",
      "conv_pad_6 (ZeroPadding2D)   (None, 29, 29, 256)       0         \n",
      "_________________________________________________________________\n",
      "conv_dw_6 (DepthwiseConv2D)  (None, 14, 14, 256)       2304      \n",
      "_________________________________________________________________\n",
      "conv_dw_6_bn (BatchNormaliza (None, 14, 14, 256)       1024      \n",
      "_________________________________________________________________\n",
      "conv_dw_6_relu (ReLU)        (None, 14, 14, 256)       0         \n",
      "_________________________________________________________________\n",
      "conv_pw_6 (Conv2D)           (None, 14, 14, 512)       131072    \n",
      "_________________________________________________________________\n",
      "conv_pw_6_bn (BatchNormaliza (None, 14, 14, 512)       2048      \n",
      "_________________________________________________________________\n",
      "conv_pw_6_relu (ReLU)        (None, 14, 14, 512)       0         \n",
      "_________________________________________________________________\n",
      "conv_dw_7 (DepthwiseConv2D)  (None, 14, 14, 512)       4608      \n",
      "_________________________________________________________________\n",
      "conv_dw_7_bn (BatchNormaliza (None, 14, 14, 512)       2048      \n",
      "_________________________________________________________________\n",
      "conv_dw_7_relu (ReLU)        (None, 14, 14, 512)       0         \n",
      "_________________________________________________________________\n",
      "conv_pw_7 (Conv2D)           (None, 14, 14, 512)       262144    \n",
      "_________________________________________________________________\n",
      "conv_pw_7_bn (BatchNormaliza (None, 14, 14, 512)       2048      \n",
      "_________________________________________________________________\n",
      "conv_pw_7_relu (ReLU)        (None, 14, 14, 512)       0         \n",
      "_________________________________________________________________\n",
      "conv_dw_8 (DepthwiseConv2D)  (None, 14, 14, 512)       4608      \n",
      "_________________________________________________________________\n",
      "conv_dw_8_bn (BatchNormaliza (None, 14, 14, 512)       2048      \n",
      "_________________________________________________________________\n",
      "conv_dw_8_relu (ReLU)        (None, 14, 14, 512)       0         \n",
      "_________________________________________________________________\n",
      "conv_pw_8 (Conv2D)           (None, 14, 14, 512)       262144    \n",
      "_________________________________________________________________\n",
      "conv_pw_8_bn (BatchNormaliza (None, 14, 14, 512)       2048      \n",
      "_________________________________________________________________\n",
      "conv_pw_8_relu (ReLU)        (None, 14, 14, 512)       0         \n",
      "_________________________________________________________________\n",
      "conv_dw_9 (DepthwiseConv2D)  (None, 14, 14, 512)       4608      \n",
      "_________________________________________________________________\n",
      "conv_dw_9_bn (BatchNormaliza (None, 14, 14, 512)       2048      \n",
      "_________________________________________________________________\n",
      "conv_dw_9_relu (ReLU)        (None, 14, 14, 512)       0         \n",
      "_________________________________________________________________\n",
      "conv_pw_9 (Conv2D)           (None, 14, 14, 512)       262144    \n",
      "_________________________________________________________________\n",
      "conv_pw_9_bn (BatchNormaliza (None, 14, 14, 512)       2048      \n",
      "_________________________________________________________________\n",
      "conv_pw_9_relu (ReLU)        (None, 14, 14, 512)       0         \n",
      "_________________________________________________________________\n",
      "conv_dw_10 (DepthwiseConv2D) (None, 14, 14, 512)       4608      \n",
      "_________________________________________________________________\n",
      "conv_dw_10_bn (BatchNormaliz (None, 14, 14, 512)       2048      \n",
      "_________________________________________________________________\n",
      "conv_dw_10_relu (ReLU)       (None, 14, 14, 512)       0         \n",
      "_________________________________________________________________\n",
      "conv_pw_10 (Conv2D)          (None, 14, 14, 512)       262144    \n",
      "_________________________________________________________________\n",
      "conv_pw_10_bn (BatchNormaliz (None, 14, 14, 512)       2048      \n",
      "_________________________________________________________________\n",
      "conv_pw_10_relu (ReLU)       (None, 14, 14, 512)       0         \n",
      "_________________________________________________________________\n",
      "conv_dw_11 (DepthwiseConv2D) (None, 14, 14, 512)       4608      \n",
      "_________________________________________________________________\n",
      "conv_dw_11_bn (BatchNormaliz (None, 14, 14, 512)       2048      \n",
      "_________________________________________________________________\n",
      "conv_dw_11_relu (ReLU)       (None, 14, 14, 512)       0         \n",
      "_________________________________________________________________\n",
      "conv_pw_11 (Conv2D)          (None, 14, 14, 512)       262144    \n",
      "_________________________________________________________________\n",
      "conv_pw_11_bn (BatchNormaliz (None, 14, 14, 512)       2048      \n",
      "_________________________________________________________________\n",
      "conv_pw_11_relu (ReLU)       (None, 14, 14, 512)       0         \n",
      "_________________________________________________________________\n",
      "conv_pad_12 (ZeroPadding2D)  (None, 15, 15, 512)       0         \n",
      "_________________________________________________________________\n",
      "conv_dw_12 (DepthwiseConv2D) (None, 7, 7, 512)         4608      \n",
      "_________________________________________________________________\n",
      "conv_dw_12_bn (BatchNormaliz (None, 7, 7, 512)         2048      \n",
      "_________________________________________________________________\n",
      "conv_dw_12_relu (ReLU)       (None, 7, 7, 512)         0         \n",
      "_________________________________________________________________\n",
      "conv_pw_12 (Conv2D)          (None, 7, 7, 1024)        524288    \n",
      "_________________________________________________________________\n",
      "conv_pw_12_bn (BatchNormaliz (None, 7, 7, 1024)        4096      \n",
      "_________________________________________________________________\n",
      "conv_pw_12_relu (ReLU)       (None, 7, 7, 1024)        0         \n",
      "_________________________________________________________________\n",
      "conv_dw_13 (DepthwiseConv2D) (None, 7, 7, 1024)        9216      \n",
      "_________________________________________________________________\n",
      "conv_dw_13_bn (BatchNormaliz (None, 7, 7, 1024)        4096      \n",
      "_________________________________________________________________\n",
      "conv_dw_13_relu (ReLU)       (None, 7, 7, 1024)        0         \n",
      "_________________________________________________________________\n",
      "conv_pw_13 (Conv2D)          (None, 7, 7, 1024)        1048576   \n",
      "_________________________________________________________________\n",
      "conv_pw_13_bn (BatchNormaliz (None, 7, 7, 1024)        4096      \n",
      "_________________________________________________________________\n",
      "conv_pw_13_relu (ReLU)       (None, 7, 7, 1024)        0         \n",
      "_________________________________________________________________\n",
      "global_average_pooling2d (Gl (None, 1024)              0         \n",
      "_________________________________________________________________\n",
      "reshape_1 (Reshape)          (None, 1, 1, 1024)        0         \n",
      "_________________________________________________________________\n",
      "dropout (Dropout)            (None, 1, 1, 1024)        0         \n",
      "_________________________________________________________________\n",
      "conv_preds (Conv2D)          (None, 1, 1, 1000)        1025000   \n",
      "_________________________________________________________________\n",
      "reshape_2 (Reshape)          (None, 1000)              0         \n",
      "_________________________________________________________________\n",
      "predictions (Activation)     (None, 1000)              0         \n",
      "=================================================================\n",
      "Total params: 4,253,864\n",
      "Trainable params: 4,231,976\n",
      "Non-trainable params: 21,888\n",
      "_________________________________________________________________\n"
     ]
    }
   ],
   "source": [
    "mobile.summary()"
   ]
  },
  {
   "cell_type": "code",
   "execution_count": 41,
   "id": "standard-miller",
   "metadata": {},
   "outputs": [],
   "source": [
    "get_layer_output_1= K.function([mobile.layers[0].input],\n",
    "                                  [mobile.get_layer('conv_pw_5').output])\n",
    "get_layer_output_2= K.function([mobile.layers[0].input],\n",
    "                                  [mobile.get_layer('conv_pw_10').output])\n",
    "get_layer_output_3= K.function([mobile.layers[0].input],\n",
    "                                  [mobile.get_layer('conv_pw_12').output])\n",
    "get_layer_output_4= K.function([mobile.layers[0].input],\n",
    "                                  [mobile.get_layer('conv_pw_1').output])\n",
    "get_layer_output_5= K.function([mobile.layers[0].input],\n",
    "                                  [mobile.get_layer('conv_pw_2').output])\n",
    "get_layer_output_6= K.function([mobile.layers[0].input],\n",
    "                                  [mobile.get_layer('conv_pw_4').output])\n",
    "get_layer_output_6= K.function([mobile.layers[0].input],\n",
    "                                  [mobile.get_layer('conv_pw_4').output])"
   ]
  },
  {
   "cell_type": "code",
   "execution_count": 42,
   "id": "sitting-perfume",
   "metadata": {},
   "outputs": [],
   "source": [
    "layer_output6 = (get_layer_output_6(preprocessed_image))"
   ]
  },
  {
   "cell_type": "code",
   "execution_count": 43,
   "id": "passing-liechtenstein",
   "metadata": {},
   "outputs": [
    {
     "data": {
      "text/plain": [
       "[array([[[[-2.1986618 , -2.0218112 , -1.6494411 , ..., -2.964199  ,\n",
       "            0.6629372 ,  0.5048461 ],\n",
       "          [-1.3215934 , -0.9925871 , -1.7638205 , ..., -1.9465097 ,\n",
       "           -0.1510055 ,  1.7513171 ],\n",
       "          [-2.5271697 , -1.3566914 , -1.7392141 , ..., -2.2299626 ,\n",
       "            0.44875002,  1.4515675 ],\n",
       "          ...,\n",
       "          [-0.8108795 , -0.9693322 , -2.0882072 , ..., -0.37753415,\n",
       "           -1.2931097 ,  1.9038429 ],\n",
       "          [-1.0500424 , -1.2262297 , -2.2543838 , ..., -0.9360149 ,\n",
       "           -0.4092735 ,  2.031131  ],\n",
       "          [-2.2226465 , -1.5529605 , -2.459658  , ..., -2.70916   ,\n",
       "            0.00864057,  0.5030066 ]],\n",
       " \n",
       "         [[-2.1619515 , -0.6439181 , -1.0574584 , ..., -2.658244  ,\n",
       "           -0.07356784,  1.3353705 ],\n",
       "          [-0.7741311 , -0.6301999 , -1.183228  , ..., -2.0642006 ,\n",
       "            0.75436425,  1.8094589 ],\n",
       "          [-0.8000063 , -0.9049976 , -1.2332507 , ..., -2.0140572 ,\n",
       "            0.32815036,  0.89091736],\n",
       "          ...,\n",
       "          [-0.94875807, -0.2847428 , -1.6268274 , ..., -1.7206851 ,\n",
       "           -0.01643879,  0.22546951],\n",
       "          [-0.80846876, -0.55864215, -1.1123507 , ..., -0.4929744 ,\n",
       "            0.24301289,  1.360258  ],\n",
       "          [-1.9450179 , -0.7553515 , -1.566522  , ..., -1.6768483 ,\n",
       "            0.34244153,  0.2807013 ]],\n",
       " \n",
       "         [[-1.7595177 , -1.507827  , -2.2258236 , ..., -2.931788  ,\n",
       "           -1.4392861 ,  1.625588  ],\n",
       "          [-2.03754   , -1.4733108 , -2.2425861 , ..., -2.9860437 ,\n",
       "           -1.437558  ,  1.679909  ],\n",
       "          [-1.552854  , -0.72272044, -2.040629  , ..., -2.6372976 ,\n",
       "           -1.8843584 ,  1.4531543 ],\n",
       "          ...,\n",
       "          [-1.6055254 , -0.892164  , -1.8375648 , ..., -0.69501084,\n",
       "           -0.6899991 ,  1.159064  ],\n",
       "          [-1.021595  , -1.1763774 , -1.4366183 , ...,  0.63435996,\n",
       "           -1.1597162 ,  1.8842676 ],\n",
       "          [-2.1164813 , -0.7669025 , -1.3826927 , ..., -1.1965942 ,\n",
       "           -0.63486636,  1.3894441 ]],\n",
       " \n",
       "         ...,\n",
       " \n",
       "         [[-2.3016942 , -0.6304348 , -0.88068444, ..., -1.5276151 ,\n",
       "           -0.7167184 ,  0.7581524 ],\n",
       "          [-2.3689773 , -0.0830099 , -0.83530295, ..., -1.5843489 ,\n",
       "           -1.9010559 , -0.2099724 ],\n",
       "          [-3.0243833 , -1.5046248 , -0.5924969 , ..., -1.2319808 ,\n",
       "           -0.94204736,  0.9544805 ],\n",
       "          ...,\n",
       "          [-1.3817015 , -1.6822805 , -2.4036567 , ...,  0.94126767,\n",
       "           -0.9621971 ,  1.3165152 ],\n",
       "          [-1.1984844 , -1.0869318 , -1.8525766 , ...,  0.44498888,\n",
       "           -0.86708146,  1.0030582 ],\n",
       "          [-1.7001363 , -0.37825328, -1.424566  , ..., -1.4605742 ,\n",
       "           -1.1259803 ,  0.8580088 ]],\n",
       " \n",
       "         [[-1.3869524 , -0.3538098 , -1.1167841 , ..., -0.31422764,\n",
       "           -0.8286507 , -0.41411877],\n",
       "          [-0.9654509 , -2.190812  , -1.7329686 , ..., -1.646698  ,\n",
       "           -1.492177  , -1.0822996 ],\n",
       "          [-4.4975767 , -1.2691985 , -1.7833058 , ..., -1.9740026 ,\n",
       "           -1.6252524 , -0.37770095],\n",
       "          ...,\n",
       "          [-1.703008  , -0.6423699 , -1.2140801 , ...,  0.40532672,\n",
       "           -1.0027181 ,  1.4429895 ],\n",
       "          [-2.107326  , -0.6128417 , -1.2642555 , ..., -0.20515583,\n",
       "           -0.33528537,  0.7908944 ],\n",
       "          [-2.2586372 , -0.11670151, -1.5416824 , ..., -2.12642   ,\n",
       "           -1.3529772 ,  0.38852525]],\n",
       " \n",
       "         [[-1.5325679 , -0.96990144, -2.0137587 , ..., -1.6569769 ,\n",
       "           -1.1500341 ,  1.09305   ],\n",
       "          [-1.9001718 , -0.9052631 , -1.6054077 , ..., -1.6891491 ,\n",
       "           -0.41238308,  1.5586042 ],\n",
       "          [-2.9956222 , -0.89137834, -1.7679751 , ..., -3.1930199 ,\n",
       "           -0.5792155 ,  0.5545119 ],\n",
       "          ...,\n",
       "          [-2.1692526 , -0.6951912 , -1.901588  , ..., -2.990852  ,\n",
       "           -0.3051076 ,  1.8710698 ],\n",
       "          [-2.6077132 , -0.85158145, -2.1272228 , ..., -1.9714401 ,\n",
       "           -0.24924439,  1.2982446 ],\n",
       "          [-1.9698123 , -0.63736147, -2.19603   , ..., -3.7862864 ,\n",
       "           -0.15974872,  1.6883299 ]]]], dtype=float32)]"
      ]
     },
     "execution_count": 43,
     "metadata": {},
     "output_type": "execute_result"
    }
   ],
   "source": [
    "layer_output6"
   ]
  },
  {
   "cell_type": "code",
   "execution_count": 109,
   "id": "geographic-rates",
   "metadata": {},
   "outputs": [],
   "source": [
    "def ret_descriptors(file):\n",
    "    img_path = '/Users/karthik/Downloads/'\n",
    "    img = image.load_img(img_path + file, target_size=(224, 224))\n",
    "    img_array = image.img_to_array(img)\n",
    "    img_array_expanded_dims = np.expand_dims(img_array, axis=0)\n",
    "    preprocessed_image = keras.applications.mobilenet.preprocess_input(img_array_expanded_dims)\n",
    "    predictions = mobile.predict(preprocessed_image)\n",
    "    results = imagenet_utils.decode_predictions(predictions)\n",
    "    get_layer_output_1= K.function([mobile.layers[0].input],[mobile.get_layer('conv_dw_5').output])\n",
    "    get_layer_output_2= K.function([mobile.layers[0].input],[mobile.get_layer('conv_dw_10').output])\n",
    "    get_layer_output_3= K.function([mobile.layers[0].input],[mobile.get_layer('conv_dw_12').output])\n",
    "    get_layer_output_4= K.function([mobile.layers[0].input],[mobile.get_layer('conv_pw_1').output])\n",
    "    get_layer_output_5= K.function([mobile.layers[0].input],[mobile.get_layer('conv_pw_2').output])\n",
    "    get_layer_output_6= K.function([mobile.layers[0].input],[mobile.get_layer('conv_pw_4').output])\n",
    "    layer_output1 = (get_layer_output_1(preprocessed_image))[0]\n",
    "    layer_output2 = (get_layer_output_2(preprocessed_image))[0]\n",
    "    layer_output3 = (get_layer_output_3(preprocessed_image))[0]\n",
    "    layer_output4 = (get_layer_output_4(preprocessed_image))[0]\n",
    "    layer_output5 = (get_layer_output_5(preprocessed_image))[0]\n",
    "    layer_output6 = (get_layer_output_6(preprocessed_image))[0]\n",
    "    return [np.reshape(layer_output1[0], [-1, 256])/np.std(np.reshape(layer_output1[0], [-1, 256])),np.reshape(layer_output2[0], [-1, 512])/np.std(np.reshape(layer_output2[0], [-1, 512])),np.reshape(layer_output3[0], [-1, 512])/np.std(np.reshape(layer_output3[0], [-1, 512])),np.reshape(layer_output4[0], [-1, 1024])/np.std(np.reshape(layer_output4[0], [-1, 1024])),np.reshape(layer_output5[0], [-1, 1024])/np.std(np.reshape(layer_output5[0], [-1, 1024])),np.reshape(layer_output6[0], [-1, 256])/np.std(np.reshape(layer_output6[0], [-1, 256]))]"
   ]
  },
  {
   "cell_type": "code",
   "execution_count": 110,
   "id": "indoor-municipality",
   "metadata": {},
   "outputs": [],
   "source": [
    "import numpy as np"
   ]
  },
  {
   "cell_type": "code",
   "execution_count": 111,
   "id": "annoying-sterling",
   "metadata": {},
   "outputs": [
    {
     "name": "stderr",
     "output_type": "stream",
     "text": [
      "/usr/local/anaconda3/envs/smlr/lib/python3.7/site-packages/ipykernel_launcher.py:1: VisibleDeprecationWarning: Creating an ndarray from ragged nested sequences (which is a list-or-tuple of lists-or-tuples-or ndarrays with different lengths or shapes) is deprecated. If you meant to do this, you must specify 'dtype=object' when creating the ndarray.\n",
      "  \"\"\"Entry point for launching an IPython kernel.\n"
     ]
    },
    {
     "data": {
      "text/plain": [
       "(6,)"
      ]
     },
     "execution_count": 111,
     "metadata": {},
     "output_type": "execute_result"
    }
   ],
   "source": [
    "np.array(ret_descriptors(\"a.jpg\")).shape"
   ]
  },
  {
   "cell_type": "code",
   "execution_count": 112,
   "id": "standing-operator",
   "metadata": {},
   "outputs": [],
   "source": [
    "seq = np.array([[i, j] for i in range(28) for j in range(28)], dtype='int32')"
   ]
  },
  {
   "cell_type": "code",
   "execution_count": 113,
   "id": "phantom-barrier",
   "metadata": {},
   "outputs": [
    {
     "data": {
      "text/plain": [
       "[array([[ 0.22937591,  0.5791934 , -0.9773982 , ...,  0.62210995,\n",
       "          1.8457295 ,  1.4084847 ],\n",
       "        [ 1.0351114 ,  0.2043196 , -1.0585746 , ...,  1.6668098 ,\n",
       "          1.1541979 ,  1.1442297 ],\n",
       "        [ 0.04791829,  0.3207315 , -0.7874821 , ...,  1.5073191 ,\n",
       "          1.6116558 ,  0.20095861],\n",
       "        ...,\n",
       "        [ 0.19935647,  0.        , -1.2109851 , ...,  2.8232517 ,\n",
       "         -0.4753974 ,  0.12287538],\n",
       "        [-0.14511232,  0.        , -1.2267711 , ...,  2.1415892 ,\n",
       "          0.40420842, -0.08006328],\n",
       "        [ 0.80964005,  0.        , -1.152132  , ...,  0.63018405,\n",
       "          0.16076587,  0.9818395 ]], dtype=float32),\n",
       " array([[-7.7593005e-01,  1.4551167e-01, -8.9787245e-01, ...,\n",
       "          5.8009332e-01, -1.1642214e+00,  1.4346274e+00],\n",
       "        [-8.6193782e-01,  1.0699586e-01, -1.1878898e+00, ...,\n",
       "          1.5172313e-01, -1.8583804e+00,  5.2669859e-01],\n",
       "        [-2.8302985e-01, -3.4083113e-02, -7.5857157e-01, ...,\n",
       "          2.0139443e-02, -2.0136356e+00,  6.8870896e-01],\n",
       "        ...,\n",
       "        [-5.3166455e-01, -7.1572095e-01, -1.7227058e+00, ...,\n",
       "         -7.0405327e-02, -1.2184080e+00,  3.0168924e-01],\n",
       "        [-6.8541682e-01, -2.7145198e-01, -1.3327686e+00, ...,\n",
       "          4.8663339e-01, -1.3076921e+00,  3.8105544e-01],\n",
       "        [-6.2338817e-01, -1.2183541e-03, -5.6573749e-01, ...,\n",
       "          4.0809557e-01, -7.1024996e-01, -1.7026424e-01]], dtype=float32),\n",
       " array([[-0.18982287, -0.89701504,  0.76340747, ..., -3.4919307 ,\n",
       "         -2.4667835 , -1.5040714 ],\n",
       "        [-0.00928986,  0.        ,  0.08122165, ..., -2.8220751 ,\n",
       "         -3.042284  , -0.5088562 ],\n",
       "        [ 0.        ,  0.        ,  0.        , ..., -2.7170882 ,\n",
       "         -2.6309907 , -0.45982927],\n",
       "        ...,\n",
       "        [-0.36465266,  0.        ,  0.        , ..., -2.0135105 ,\n",
       "         -1.7280444 , -0.33425218],\n",
       "        [-0.04561463, -0.68205076,  0.88973254, ..., -2.1549146 ,\n",
       "         -1.2144911 , -1.3735999 ],\n",
       "        [-0.05114615, -0.1775312 ,  0.54081786, ..., -1.7550579 ,\n",
       "         -0.5468882 , -2.0965996 ]], dtype=float32),\n",
       " array([[ 0.11396625,  0.43240026,  1.2064537 , ...,  0.4442314 ,\n",
       "          1.2259816 , -1.6895225 ],\n",
       "        [ 0.54291254,  0.23449206,  1.4202678 , ...,  0.6115275 ,\n",
       "          1.7477945 , -1.6477826 ],\n",
       "        [ 0.63705117,  0.22533967,  1.2405378 , ...,  0.5280354 ,\n",
       "          1.3330576 , -1.5446299 ],\n",
       "        ...,\n",
       "        [ 0.5726003 ,  0.03058735,  1.1933802 , ...,  0.7252024 ,\n",
       "          1.701472  , -1.4640124 ],\n",
       "        [ 0.63156736, -0.04095844,  1.2253228 , ...,  0.58140683,\n",
       "          1.0593854 , -1.670536  ],\n",
       "        [ 0.7492112 , -0.03854081,  1.3679738 , ...,  0.53107965,\n",
       "          0.8776458 , -1.9766587 ]], dtype=float32),\n",
       " array([[-1.8867458 ,  0.8880381 , -0.08515439, ...,  0.07581948,\n",
       "         -0.11036479, -0.31226242],\n",
       "        [-2.2605853 ,  0.49522805, -0.1112984 , ...,  0.27693844,\n",
       "         -0.42148796, -0.34007922],\n",
       "        [-1.9942373 ,  0.6573037 ,  0.13859974, ..., -0.03164306,\n",
       "         -0.03752513, -0.13330509],\n",
       "        ...,\n",
       "        [-2.4918458 ,  0.9754091 ,  0.13362294, ...,  0.09673219,\n",
       "         -0.2504847 , -0.2008857 ],\n",
       "        [-2.7133923 ,  1.0035177 , -0.2975995 , ...,  0.18235354,\n",
       "          0.05865736, -0.2542517 ],\n",
       "        [-2.3512886 ,  0.8989781 ,  0.11308208, ...,  0.1496245 ,\n",
       "         -0.19944377, -0.27034712]], dtype=float32),\n",
       " array([[-1.4024091 ,  0.04751066, -0.73255277, ..., -1.2448792 ,\n",
       "         -0.41464275,  1.4817107 ],\n",
       "        [-0.4420336 , -0.2563653 , -0.8261053 , ..., -0.42429906,\n",
       "         -0.61461425,  0.8638995 ],\n",
       "        [-0.8726744 , -0.10182737, -1.0601674 , ..., -0.59126985,\n",
       "         -0.36919674,  0.6484974 ],\n",
       "        ...,\n",
       "        [-1.3593614 , -0.5461178 , -1.3384961 , ..., -0.9331955 ,\n",
       "         -0.64107084,  0.33294958],\n",
       "        [-1.5308851 , -0.5905212 , -1.335387  , ..., -1.5839847 ,\n",
       "         -0.26165524,  0.5498501 ],\n",
       "        [-1.2107898 , -0.42928928, -0.95492905, ..., -2.5128407 ,\n",
       "         -0.01634451,  1.1909479 ]], dtype=float32)]"
      ]
     },
     "execution_count": 113,
     "metadata": {},
     "output_type": "execute_result"
    }
   ],
   "source": [
    "ret_descriptors(\"a.jpg\")"
   ]
  },
  {
   "cell_type": "code",
   "execution_count": 114,
   "id": "interracial-tobago",
   "metadata": {},
   "outputs": [],
   "source": [
    "from __future__ import print_function\n",
    "import time\n",
    "import gc\n",
    "from utils.utils import *\n",
    "import cv2\n",
    "from utils.shape_context import ShapeContext\n",
    "import matplotlib.pyplot as plt"
   ]
  },
  {
   "cell_type": "code",
   "execution_count": 115,
   "id": "right-puppy",
   "metadata": {},
   "outputs": [],
   "source": [
    "from lap import lapjv"
   ]
  },
  {
   "cell_type": "code",
   "execution_count": 116,
   "id": "capable-essex",
   "metadata": {},
   "outputs": [],
   "source": [
    "[DX1,DY1,DZ1,DA1,DB1,DC1]=ret_descriptors(\"a.jpg\")\n",
    "[FX1,FY1,FZ1,FA1,FB1,FC1]=ret_descriptors(\"b.jpg\")"
   ]
  },
  {
   "cell_type": "code",
   "execution_count": 117,
   "id": "assumed-attitude",
   "metadata": {},
   "outputs": [
    {
     "data": {
      "text/plain": [
       "(784, 256)"
      ]
     },
     "execution_count": 117,
     "metadata": {},
     "output_type": "execute_result"
    }
   ],
   "source": [
    "DC1.shape"
   ]
  },
  {
   "cell_type": "code",
   "execution_count": 118,
   "id": "sweet-stomach",
   "metadata": {},
   "outputs": [
    {
     "data": {
      "text/plain": [
       "array([[-7.7593005e-01,  1.4551167e-01, -8.9787245e-01, ...,\n",
       "         5.8009332e-01, -1.1642214e+00,  1.4346274e+00],\n",
       "       [-8.6193782e-01,  1.0699586e-01, -1.1878898e+00, ...,\n",
       "         1.5172313e-01, -1.8583804e+00,  5.2669859e-01],\n",
       "       [-2.8302985e-01, -3.4083113e-02, -7.5857157e-01, ...,\n",
       "         2.0139443e-02, -2.0136356e+00,  6.8870896e-01],\n",
       "       ...,\n",
       "       [-5.3166455e-01, -7.1572095e-01, -1.7227058e+00, ...,\n",
       "        -7.0405327e-02, -1.2184080e+00,  3.0168924e-01],\n",
       "       [-6.8541682e-01, -2.7145198e-01, -1.3327686e+00, ...,\n",
       "         4.8663339e-01, -1.3076921e+00,  3.8105544e-01],\n",
       "       [-6.2338817e-01, -1.2183541e-03, -5.6573749e-01, ...,\n",
       "         4.0809557e-01, -7.1024996e-01, -1.7026424e-01]], dtype=float32)"
      ]
     },
     "execution_count": 118,
     "metadata": {},
     "output_type": "execute_result"
    }
   ],
   "source": [
    "DY1"
   ]
  },
  {
   "cell_type": "code",
   "execution_count": 119,
   "id": "photographic-zealand",
   "metadata": {},
   "outputs": [],
   "source": [
    "PD=pairwise_distance(DC1,FC1)"
   ]
  },
  {
   "cell_type": "code",
   "execution_count": 55,
   "id": "intermediate-snowboard",
   "metadata": {},
   "outputs": [
    {
     "data": {
      "text/plain": [
       "(784, 784)"
      ]
     },
     "execution_count": 55,
     "metadata": {},
     "output_type": "execute_result"
    }
   ],
   "source": [
    "PD.shape"
   ]
  },
  {
   "cell_type": "code",
   "execution_count": 56,
   "id": "tutorial-grill",
   "metadata": {},
   "outputs": [
    {
     "data": {
      "text/plain": [
       "(12544, 12544)"
      ]
     },
     "execution_count": 56,
     "metadata": {},
     "output_type": "execute_result"
    }
   ],
   "source": [
    "pd_expand(pairwise_distance(DC1,FC1),4).shape"
   ]
  },
  {
   "cell_type": "code",
   "execution_count": 57,
   "id": "otherwise-brook",
   "metadata": {},
   "outputs": [],
   "source": [
    "import math"
   ]
  },
  {
   "cell_type": "code",
   "execution_count": null,
   "id": "antique-yukon",
   "metadata": {},
   "outputs": [],
   "source": []
  },
  {
   "cell_type": "code",
   "execution_count": 34,
   "id": "divine-german",
   "metadata": {},
   "outputs": [
    {
     "data": {
      "text/plain": [
       "(49, 49)"
      ]
     },
     "execution_count": 34,
     "metadata": {},
     "output_type": "execute_result"
    }
   ],
   "source": [
    "pairwise_distance(DZ1,FZ1).shape"
   ]
  },
  {
   "cell_type": "code",
   "execution_count": 127,
   "id": "coral-projection",
   "metadata": {},
   "outputs": [],
   "source": [
    "def register(DX1,DY1,DZ1,DA1,DB1,DC1,FX1,FY1,FZ1,FA1,FB1,FC1):\n",
    "    height = 224\n",
    "    width = 224\n",
    "    shape = np.array([224.0, 224.0])\n",
    "    sift_weight = 2.0\n",
    "    cnn_weight = 1.0\n",
    "    max_itr = 200\n",
    "    tolerance = 1e-2\n",
    "    freq = 5 # k in the paper\n",
    "    epsilon = 0.5\n",
    "    omega = 0.5\n",
    "    lambd = 0.5\n",
    "\n",
    "    PD1=pairwise_distance(DX1,FX1)\n",
    "    PD2=pd_expand(pairwise_distance(DY1,FY1),2)\n",
    "    PD3=pd_expand(pairwise_distance(DZ1,FZ1),4)\n",
    "    PD4=(pairwise_distance(DC1,FC1))\n",
    "    PD=1.414*PD1+PD2+PD3\n",
    "    \n",
    "    seq = np.array([[i, j] for i in range(28) for j in range(28)], dtype='int32')\n",
    "\n",
    "    X = np.array(seq, dtype='float32') * 8.0 + 4.0\n",
    "    Y = np.array(seq, dtype='float32') * 8.0 + 4.0\n",
    "\n",
    "    # normalize\n",
    "    X = (X - 112.0) / 224.0\n",
    "    Y = (Y - 112.0) / 224.0\n",
    "\n",
    "    # prematch and select points\n",
    "    C_all, quality = match(PD)\n",
    "    tau_max = np.max(quality)\n",
    "    while np.where(quality >= tau_max)[0].shape[0] <= 128: tau_max -= 0.01\n",
    "\n",
    "    C = C_all[np.where(quality >= tau_max)]\n",
    "    cnt = C.shape[0]\n",
    "\n",
    "    # select prematched feature points\n",
    "    X, Y = X[C[:, 1]], Y[C[:, 0]]\n",
    "    PD = PD[np.repeat(np.reshape(C[:, 1], [cnt, 1]), cnt, axis=1),\n",
    "            np.repeat(np.reshape(C[:, 0], [1, cnt]), cnt, axis=0)]\n",
    "\n",
    "    N = X.shape[0]\n",
    "    M = X.shape[0]\n",
    "    assert M == N\n",
    "\n",
    "    # precalculation of feature match\n",
    "    C_all, quality = match(PD)\n",
    "\n",
    "    # compute \\hat{\\theta} and \\delta\n",
    "    tau_min = np.min(quality)\n",
    "    tau_max = np.max(quality)\n",
    "    while np.where(quality >= tau_max)[0].shape[0] <= 0.5 * cnt: tau_max -= 0.01\n",
    "    tau = tau_max\n",
    "    delta = (tau_max - tau_min) / 10.0\n",
    "\n",
    "    SCX = ShapeContext().compute(X)\n",
    "\n",
    "    # initialization\n",
    "    Z = Y.copy()\n",
    "    GRB = gaussian_radial_basis(Y, 2.0)\n",
    "    A = np.zeros([M, 2])\n",
    "    sigma2 = init_sigma2(X, Y)\n",
    "\n",
    "    Pr = None\n",
    "\n",
    "    Q = 0\n",
    "    dQ = float('Inf')\n",
    "    itr = 1\n",
    "\n",
    "    # registration process\n",
    "    while itr < max_itr and abs(dQ) > tolerance and sigma2 > 1e-4:\n",
    "        Z_old = Z.copy()\n",
    "        Q_old = Q\n",
    "\n",
    "        # for every k iterations\n",
    "        if (itr - 1) % freq == 0:\n",
    "            # compute C^{conv}_{\\theta}\n",
    "            C = C_all[np.where(quality >= tau)]\n",
    "            Lt = PD[C[:, 0], C[:, 1]]\n",
    "            maxLt = np.max(Lt)\n",
    "            if maxLt > 0: Lt = Lt / maxLt\n",
    "            L = np.ones([M, N])\n",
    "            L[C[:, 0], C[:, 1]] = Lt\n",
    "\n",
    "            # compute C^{geo}_{\\theta}\n",
    "            SCZ = ShapeContext().compute(Z)\n",
    "            SC_cost = ShapeContext().cost(SCZ, SCX)\n",
    "\n",
    "            # compute C\n",
    "            L = L * SC_cost\n",
    "\n",
    "            # linear assignment\n",
    "            C = lapjv(L)[1]\n",
    "\n",
    "            # prior probability matrix\n",
    "            Pr = np.ones_like(PD) * (1.0 - epsilon) / N\n",
    "            Pr[np.arange(C.shape[0]), C] = 1.0\n",
    "            Pr = Pr / np.sum(Pr, axis=0)\n",
    "\n",
    "            tau = tau - delta\n",
    "            if tau < tau_min: tau = tau_min\n",
    "\n",
    "        # compute minimization\n",
    "        Po, P1, Np, tmp, Q = compute(X, Y, Z_old, Pr, sigma2, omega)\n",
    "        Q = Q + lambd / 2 * np.trace(np.dot(np.dot(A.transpose(), GRB), A))\n",
    "\n",
    "        # update variables\n",
    "        dP = np.diag(P1)\n",
    "        t1 = np.dot(dP, GRB) + lambd * sigma2 * np.eye(M)\n",
    "        t2 = np.dot(Po, X) - np.dot(dP, Y)\n",
    "        A = np.dot(np.linalg.inv(t1), t2)\n",
    "        sigma2 = tmp / (2.0 * Np)\n",
    "        omega = 1 - (Np / N)\n",
    "        if omega > 0.99: omega = 0.99\n",
    "        if omega < 0.01: omega = 0.01\n",
    "        Z = Y + np.dot(GRB, A)\n",
    "        lambd = lambd * 0.95\n",
    "        if lambd < 0.1: lambd = 0.1\n",
    "\n",
    "        dQ = Q - Q_old\n",
    "        itr = itr + 1\n",
    "\n",
    "    print('finish: itr %d, Q %d, tau %d' % (itr, Q, tau))\n",
    "    Xscale = 1.0 * np.array(IX.shape[:2]) / shape\n",
    "    Yscale = 1.0 * np.array(IY.shape[:2]) / shape\n",
    "    return(((X*224.0)+112.0)*Xscale, ((Y*224.0)+112.0)*Yscale, ((Z*224.0)+112.0)*Xscale)\n"
   ]
  },
  {
   "cell_type": "code",
   "execution_count": 128,
   "id": "different-drama",
   "metadata": {},
   "outputs": [],
   "source": [
    "max_itr = 200"
   ]
  },
  {
   "cell_type": "code",
   "execution_count": 129,
   "id": "friendly-pressure",
   "metadata": {},
   "outputs": [],
   "source": [
    "import cv2"
   ]
  },
  {
   "cell_type": "code",
   "execution_count": 130,
   "id": "brutal-education",
   "metadata": {},
   "outputs": [],
   "source": [
    "IX_path = '/Users/karthik/Downloads/a.jpg'\n",
    "IY_path = '/Users/karthik/Downloads/b.jpg'\n",
    "\n",
    "IX = cv2.imread(IX_path)\n",
    "IY = cv2.imread(IY_path)"
   ]
  },
  {
   "cell_type": "code",
   "execution_count": 131,
   "id": "judicial-moscow",
   "metadata": {},
   "outputs": [
    {
     "name": "stdout",
     "output_type": "stream",
     "text": [
      "finish: itr 41, Q -596, tau 1\n"
     ]
    },
    {
     "data": {
      "image/png": "[encoded data removed]",
      "text/plain": [
       "<Figure size 432x288 with 3 Axes>"
      ]
     },
     "metadata": {
      "needs_background": "light"
     },
     "output_type": "display_data"
    }
   ],
   "source": [
    "X, Y, Z = register(DX1,DY1,DZ1,DA1,DB1,DC1,FX1,FY1,FZ1,FA1,FB1,FC1)\n",
    "#generate regsitered image using TPS\n",
    "registered = tps_warp(Y, Z, IY, IX.shape)\n",
    "cb = checkboard(IX, registered)\n",
    "\n",
    "plt.subplot(131)\n",
    "plt.title('reference')\n",
    "plt.imshow(cv2.cvtColor(IX, cv2.COLOR_BGR2RGB))\n",
    "plt.subplot(132)\n",
    "plt.title('registered')\n",
    "plt.imshow(cv2.cvtColor(registered, cv2.COLOR_BGR2RGB))\n",
    "plt.subplot(133)\n",
    "plt.title('checkboard')\n",
    "plt.imshow(cv2.cvtColor(cb, cv2.COLOR_BGR2RGB))\n",
    "plt.show()"
   ]
  },
  {
   "cell_type": "code",
   "execution_count": 132,
   "id": "identified-haiti",
   "metadata": {},
   "outputs": [
    {
     "data": {
      "text/plain": [
       "True"
      ]
     },
     "execution_count": 132,
     "metadata": {},
     "output_type": "execute_result"
    }
   ],
   "source": [
    "import cv2 as cv\n",
    "cv.imwrite('stitch_.jpg', cv.cvtColor(cb, cv.COLOR_BGR2RGB))"
   ]
  },
  {
   "cell_type": "code",
   "execution_count": 92,
   "id": "legendary-closure",
   "metadata": {},
   "outputs": [
    {
     "data": {
      "text/plain": [
       "True"
      ]
     },
     "execution_count": 92,
     "metadata": {},
     "output_type": "execute_result"
    }
   ],
   "source": [
    "cv.imwrite('im2warp.jpg', cv.cvtColor(registered, cv.COLOR_BGR2RGB))"
   ]
  }
 ],
 "metadata": {
  "kernelspec": {
   "display_name": "Python 3",
   "language": "python",
   "name": "python3"
  },
  "language_info": {
   "codemirror_mode": {
    "name": "ipython",
    "version": 3
   },
   "file_extension": ".py",
   "mimetype": "text/x-python",
   "name": "python",
   "nbconvert_exporter": "python",
   "pygments_lexer": "ipython3",
   "version": "3.7.10"
  }
 },
 "nbformat": 4,
 "nbformat_minor": 5
}
