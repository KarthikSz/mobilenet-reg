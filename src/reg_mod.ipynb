{
 "cells": [
  {
   "cell_type": "code",
   "execution_count": 44,
   "id": "egyptian-significance",
   "metadata": {},
   "outputs": [],
   "source": [
    "import sys\n",
    "#Rename according to your virtual - env name\n",
    "sys.path.append('/usr/local/anaconda3/envs/mob-reg/lib/python3.7/site-packages')"
   ]
  },
  {
   "cell_type": "code",
   "execution_count": 45,
   "id": "sunrise-houston",
   "metadata": {},
   "outputs": [],
   "source": [
    "import matplotlib"
   ]
  },
  {
   "cell_type": "code",
   "execution_count": 46,
   "id": "stopped-field",
   "metadata": {},
   "outputs": [],
   "source": [
    "import tensorflow as tf"
   ]
  },
  {
   "cell_type": "markdown",
   "id": "fundamental-opera",
   "metadata": {},
   "source": [
    "# Extracting VGG keypoints trial ( this part is not needed for mobilenet implementation)"
   ]
  },
  {
   "cell_type": "code",
   "execution_count": null,
   "id": "exceptional-relation",
   "metadata": {},
   "outputs": [],
   "source": [
    "from __future__ import print_function\n",
    "import Registration\n",
    "import matplotlib.pyplot as plt\n",
    "from utils.utils import *\n",
    "import cv2\n",
    "\n",
    "# designate image path here\n",
    "IX_path = '/Users/karthik/Downloads/a.jpg'\n",
    "IY_path = '/Users/karthik/Downloads/b.jpg'\n",
    "\n",
    "IX = cv2.imread(IX_path)\n",
    "IY = cv2.imread(IY_path)\n",
    "print(IX)\n",
    "#initialize\n",
    "reg = Registration.CNN()\n",
    "#register\n",
    "X, Y, Z = reg.register(IX, IY)\n",
    "#generate regsitered image using TPS\n",
    "registered = tps_warp(Y, Z, IY, IX.shape)\n",
    "cb = checkboard(IX, registered, 11)\n",
    "\n",
    "plt.subplot(141)\n",
    "plt.title('reference')\n",
    "plt.imshow(cv2.cvtColor(IX, cv2.COLOR_BGR2RGB))\n",
    "\n",
    "plt.subplot(142)\n",
    "plt.title('other')\n",
    "plt.imshow(cv2.cvtColor(IY, cv2.COLOR_BGR2RGB))\n",
    "\n",
    "plt.subplot(143)\n",
    "plt.title('registered')\n",
    "plt.imshow(cv2.cvtColor(registered, cv2.COLOR_BGR2RGB))\n",
    "plt.subplot(144)\n",
    "plt.title('checkboard')\n",
    "plt.imshow(cv2.cvtColor(cb, cv2.COLOR_BGR2RGB))\n",
    "\n",
    "plt.show()"
   ]
  },
  {
   "cell_type": "code",
   "execution_count": null,
   "id": "interim-audio",
   "metadata": {},
   "outputs": [],
   "source": [
    "from __future__ import print_function\n",
    "import Registration2\n",
    "import matplotlib.pyplot as plt\n",
    "from utils.utils import *\n",
    "import cv2\n",
    "\n",
    "# designate image path here\n",
    "IX_path = '/Users/karthik/Downloads/a.jpg'\n",
    "IY_path = '/Users/karthik/Downloads/b.jpg'\n",
    "\n",
    "IX = cv2.imread(IX_path)\n",
    "IY = cv2.imread(IY_path)\n",
    "print(IX)\n",
    "#initialize\n",
    "reg = Registration2.CNN()\n",
    "#register\n",
    "hello= reg.register(IX, IY)\n"
   ]
  },
  {
   "cell_type": "code",
   "execution_count": null,
   "id": "referenced-communication",
   "metadata": {},
   "outputs": [],
   "source": [
    "import Registration2"
   ]
  },
  {
   "cell_type": "code",
   "execution_count": null,
   "id": "limiting-divorce",
   "metadata": {},
   "outputs": [],
   "source": [
    "A.shape"
   ]
  },
  {
   "cell_type": "code",
   "execution_count": null,
   "id": "vulnerable-mistake",
   "metadata": {},
   "outputs": [],
   "source": [
    "F.shape"
   ]
  },
  {
   "cell_type": "code",
   "execution_count": null,
   "id": "italic-procedure",
   "metadata": {},
   "outputs": [],
   "source": [
    "reg.register(IX, IY)[2].shape"
   ]
  },
  {
   "cell_type": "code",
   "execution_count": null,
   "id": "frank-regulation",
   "metadata": {},
   "outputs": [],
   "source": [
    "IX.shape"
   ]
  },
  {
   "cell_type": "code",
   "execution_count": null,
   "id": "marked-reset",
   "metadata": {},
   "outputs": [],
   "source": [
    "np.expand_dims(IX, axis=0).shape"
   ]
  },
  {
   "cell_type": "code",
   "execution_count": null,
   "id": "chemical-plant",
   "metadata": {},
   "outputs": [],
   "source": [
    "np.concatenate((np.expand_dims(IY, axis=0),np.expand_dims(IY, axis=0)),axis=0).shape"
   ]
  },
  {
   "cell_type": "code",
   "execution_count": null,
   "id": "imported-bleeding",
   "metadata": {},
   "outputs": [],
   "source": [
    "reg.register(IX, IY)"
   ]
  },
  {
   "cell_type": "code",
   "execution_count": null,
   "id": "urban-weight",
   "metadata": {},
   "outputs": [],
   "source": [
    "F.shape"
   ]
  },
  {
   "cell_type": "code",
   "execution_count": null,
   "id": "instant-emission",
   "metadata": {},
   "outputs": [],
   "source": [
    "F[48]"
   ]
  },
  {
   "cell_type": "code",
   "execution_count": null,
   "id": "controlled-prime",
   "metadata": {},
   "outputs": [],
   "source": [
    "import cv2 as cv"
   ]
  },
  {
   "cell_type": "code",
   "execution_count": null,
   "id": "digital-creek",
   "metadata": {},
   "outputs": [],
   "source": [
    "akaze = cv.AKAZE_create()\n",
    "# Find the keypoints and descriptors with SIFT\n",
    "kp1, des1 = akaze.detectAndCompute(IX, None)\n",
    "kp2, des2 = akaze.detectAndCompute(IY, None)"
   ]
  },
  {
   "cell_type": "code",
   "execution_count": null,
   "id": "adult-cross",
   "metadata": {},
   "outputs": [],
   "source": [
    "IX.shape"
   ]
  },
  {
   "cell_type": "code",
   "execution_count": null,
   "id": "biological-juice",
   "metadata": {},
   "outputs": [],
   "source": [
    "type(kp1)"
   ]
  },
  {
   "cell_type": "code",
   "execution_count": null,
   "id": "stainless-shooting",
   "metadata": {},
   "outputs": [],
   "source": [
    "des1.shape"
   ]
  },
  {
   "cell_type": "code",
   "execution_count": null,
   "id": "residential-great",
   "metadata": {},
   "outputs": [],
   "source": [
    "hello[0].shape"
   ]
  },
  {
   "cell_type": "code",
   "execution_count": null,
   "id": "laughing-porter",
   "metadata": {},
   "outputs": [],
   "source": [
    "hello[5].shape"
   ]
  },
  {
   "cell_type": "code",
   "execution_count": null,
   "id": "developed-palestinian",
   "metadata": {},
   "outputs": [],
   "source": [
    "bf = cv.BFMatcher()\n",
    "matches = bf.knnMatch(hello[4], hello[5], k=2)"
   ]
  },
  {
   "cell_type": "code",
   "execution_count": null,
   "id": "located-reputation",
   "metadata": {},
   "outputs": [],
   "source": [
    "good_matches = []\n",
    "for m,n in matches:\n",
    "    if m.distance < 0.75*n.distance:\n",
    "        good_matches.append([m])"
   ]
  },
  {
   "cell_type": "code",
   "execution_count": null,
   "id": "surprising-formation",
   "metadata": {},
   "outputs": [],
   "source": [
    "img3 = cv.drawMatchesKnn(IX,kp1,IY,kp2,good_matches,None,flags=cv.DrawMatchesFlags_NOT_DRAW_SINGLE_POINTS)\n",
    "cv.imwrite('matches.jpg', img3)"
   ]
  },
  {
   "cell_type": "code",
   "execution_count": null,
   "id": "atomic-cigarette",
   "metadata": {},
   "outputs": [],
   "source": [
    "plt.imshow(img3)"
   ]
  },
  {
   "cell_type": "markdown",
   "id": "elect-winner",
   "metadata": {},
   "source": [
    "# Mobilenet Implementation with keras"
   ]
  },
  {
   "cell_type": "code",
   "execution_count": 47,
   "id": "concrete-israel",
   "metadata": {},
   "outputs": [],
   "source": [
    "#import libraries)\n",
    "import keras\n",
    "from keras import backend as K\n",
    "from keras.layers.core import Dense, Activation\n",
    "from keras.optimizers import Adam\n",
    "from keras.metrics import categorical_crossentropy\n",
    "from keras.preprocessing.image import ImageDataGenerator\n",
    "from keras.preprocessing import image\n",
    "from keras.models import Model\n",
    "from keras.applications import imagenet_utils\n",
    "from keras.layers import Dense,GlobalAveragePooling2D\n",
    "from keras.applications import MobileNet\n",
    "from keras.applications.mobilenet import preprocess_input\n",
    "import numpy as np\n",
    "from IPython.display import Image\n",
    "from keras.optimizers import Adam"
   ]
  },
  {
   "cell_type": "code",
   "execution_count": 48,
   "id": "binding-concord",
   "metadata": {},
   "outputs": [
    {
     "data": {
      "text/plain": [
       "'2.4.1'"
      ]
     },
     "execution_count": 48,
     "metadata": {},
     "output_type": "execute_result"
    }
   ],
   "source": [
    "tf.__version__"
   ]
  },
  {
   "cell_type": "markdown",
   "id": "southern-bacteria",
   "metadata": {},
   "source": [
    "## Preprocessing"
   ]
  },
  {
   "cell_type": "code",
   "execution_count": 49,
   "id": "demonstrated-profession",
   "metadata": {},
   "outputs": [],
   "source": [
    "import keras"
   ]
  },
  {
   "cell_type": "code",
   "execution_count": 50,
   "id": "artistic-cemetery",
   "metadata": {},
   "outputs": [],
   "source": [
    "from PIL import Image, ImageDraw"
   ]
  },
  {
   "cell_type": "code",
   "execution_count": 51,
   "id": "demographic-indianapolis",
   "metadata": {},
   "outputs": [],
   "source": [
    "mobile = keras.applications.mobilenet.MobileNet()\n",
    "def prepare_image(file):\n",
    "    img_path = '/Users/karthik/Downloads/'\n",
    "    img = image.load_img(img_path + file, target_size=(224, 224))\n",
    "    img_array = image.img_to_array(img)\n",
    "    img_array_expanded_dims = np.expand_dims(img_array, axis=0)\n",
    "    return keras.applications.mobilenet.preprocess_input(img_array_expanded_dims)"
   ]
  },
  {
   "cell_type": "code",
   "execution_count": 52,
   "id": "liked-hygiene",
   "metadata": {},
   "outputs": [
    {
     "data": {
      "text/plain": [
       "[[('n04532670', 'viaduct', 0.17268583),\n",
       "  ('n04238763', 'slide_rule', 0.09660436),\n",
       "  ('n06874185', 'traffic_light', 0.056954674),\n",
       "  ('n03160309', 'dam', 0.04617933),\n",
       "  ('n03095699', 'container_ship', 0.04171583)]]"
      ]
     },
     "execution_count": 52,
     "metadata": {},
     "output_type": "execute_result"
    }
   ],
   "source": [
    "preprocessed_image = prepare_image('b.jpg')\n",
    "predictions = mobile.predict(preprocessed_image)\n",
    "results = imagenet_utils.decode_predictions(predictions)\n",
    "results"
   ]
  },
  {
   "cell_type": "code",
   "execution_count": 53,
   "id": "robust-belfast",
   "metadata": {},
   "outputs": [],
   "source": [
    "img_path = '/Users/karthik/Downloads/'\n",
    "img = image.load_img(img_path + 'a.jpg', target_size=(224, 224))\n",
    "img_array = image.img_to_array(img)\n",
    "img_array_expanded_dims = np.expand_dims(img_array, axis=0)"
   ]
  },
  {
   "cell_type": "code",
   "execution_count": 54,
   "id": "cardiac-trainer",
   "metadata": {},
   "outputs": [
    {
     "data": {
      "text/plain": [
       "(224, 224, 3)"
      ]
     },
     "execution_count": 54,
     "metadata": {},
     "output_type": "execute_result"
    }
   ],
   "source": [
    "img_array.shape"
   ]
  },
  {
   "cell_type": "code",
   "execution_count": 55,
   "id": "military-perry",
   "metadata": {},
   "outputs": [
    {
     "data": {
      "text/plain": [
       "(1, 224, 224, 3)"
      ]
     },
     "execution_count": 55,
     "metadata": {},
     "output_type": "execute_result"
    }
   ],
   "source": [
    "img_array_expanded_dims.shape"
   ]
  },
  {
   "cell_type": "code",
   "execution_count": 56,
   "id": "convinced-works",
   "metadata": {},
   "outputs": [
    {
     "data": {
      "text/plain": [
       "(224, 224, 3)"
      ]
     },
     "execution_count": 56,
     "metadata": {},
     "output_type": "execute_result"
    }
   ],
   "source": [
    "img_array.shape"
   ]
  },
  {
   "cell_type": "code",
   "execution_count": 57,
   "id": "three-fireplace",
   "metadata": {
    "scrolled": true
   },
   "outputs": [
    {
     "name": "stdout",
     "output_type": "stream",
     "text": [
      "Model: \"mobilenet_1.00_224\"\n",
      "_________________________________________________________________\n",
      "Layer (type)                 Output Shape              Param #   \n",
      "=================================================================\n",
      "input_2 (InputLayer)         [(None, 224, 224, 3)]     0         \n",
      "_________________________________________________________________\n",
      "conv1 (Conv2D)               (None, 112, 112, 32)      864       \n",
      "_________________________________________________________________\n",
      "conv1_bn (BatchNormalization (None, 112, 112, 32)      128       \n",
      "_________________________________________________________________\n",
      "conv1_relu (ReLU)            (None, 112, 112, 32)      0         \n",
      "_________________________________________________________________\n",
      "conv_dw_1 (DepthwiseConv2D)  (None, 112, 112, 32)      288       \n",
      "_________________________________________________________________\n",
      "conv_dw_1_bn (BatchNormaliza (None, 112, 112, 32)      128       \n",
      "_________________________________________________________________\n",
      "conv_dw_1_relu (ReLU)        (None, 112, 112, 32)      0         \n",
      "_________________________________________________________________\n",
      "conv_pw_1 (Conv2D)           (None, 112, 112, 64)      2048      \n",
      "_________________________________________________________________\n",
      "conv_pw_1_bn (BatchNormaliza (None, 112, 112, 64)      256       \n",
      "_________________________________________________________________\n",
      "conv_pw_1_relu (ReLU)        (None, 112, 112, 64)      0         \n",
      "_________________________________________________________________\n",
      "conv_pad_2 (ZeroPadding2D)   (None, 113, 113, 64)      0         \n",
      "_________________________________________________________________\n",
      "conv_dw_2 (DepthwiseConv2D)  (None, 56, 56, 64)        576       \n",
      "_________________________________________________________________\n",
      "conv_dw_2_bn (BatchNormaliza (None, 56, 56, 64)        256       \n",
      "_________________________________________________________________\n",
      "conv_dw_2_relu (ReLU)        (None, 56, 56, 64)        0         \n",
      "_________________________________________________________________\n",
      "conv_pw_2 (Conv2D)           (None, 56, 56, 128)       8192      \n",
      "_________________________________________________________________\n",
      "conv_pw_2_bn (BatchNormaliza (None, 56, 56, 128)       512       \n",
      "_________________________________________________________________\n",
      "conv_pw_2_relu (ReLU)        (None, 56, 56, 128)       0         \n",
      "_________________________________________________________________\n",
      "conv_dw_3 (DepthwiseConv2D)  (None, 56, 56, 128)       1152      \n",
      "_________________________________________________________________\n",
      "conv_dw_3_bn (BatchNormaliza (None, 56, 56, 128)       512       \n",
      "_________________________________________________________________\n",
      "conv_dw_3_relu (ReLU)        (None, 56, 56, 128)       0         \n",
      "_________________________________________________________________\n",
      "conv_pw_3 (Conv2D)           (None, 56, 56, 128)       16384     \n",
      "_________________________________________________________________\n",
      "conv_pw_3_bn (BatchNormaliza (None, 56, 56, 128)       512       \n",
      "_________________________________________________________________\n",
      "conv_pw_3_relu (ReLU)        (None, 56, 56, 128)       0         \n",
      "_________________________________________________________________\n",
      "conv_pad_4 (ZeroPadding2D)   (None, 57, 57, 128)       0         \n",
      "_________________________________________________________________\n",
      "conv_dw_4 (DepthwiseConv2D)  (None, 28, 28, 128)       1152      \n",
      "_________________________________________________________________\n",
      "conv_dw_4_bn (BatchNormaliza (None, 28, 28, 128)       512       \n",
      "_________________________________________________________________\n",
      "conv_dw_4_relu (ReLU)        (None, 28, 28, 128)       0         \n",
      "_________________________________________________________________\n",
      "conv_pw_4 (Conv2D)           (None, 28, 28, 256)       32768     \n",
      "_________________________________________________________________\n",
      "conv_pw_4_bn (BatchNormaliza (None, 28, 28, 256)       1024      \n",
      "_________________________________________________________________\n",
      "conv_pw_4_relu (ReLU)        (None, 28, 28, 256)       0         \n",
      "_________________________________________________________________\n",
      "conv_dw_5 (DepthwiseConv2D)  (None, 28, 28, 256)       2304      \n",
      "_________________________________________________________________\n",
      "conv_dw_5_bn (BatchNormaliza (None, 28, 28, 256)       1024      \n",
      "_________________________________________________________________\n",
      "conv_dw_5_relu (ReLU)        (None, 28, 28, 256)       0         \n",
      "_________________________________________________________________\n",
      "conv_pw_5 (Conv2D)           (None, 28, 28, 256)       65536     \n",
      "_________________________________________________________________\n",
      "conv_pw_5_bn (BatchNormaliza (None, 28, 28, 256)       1024      \n",
      "_________________________________________________________________\n",
      "conv_pw_5_relu (ReLU)        (None, 28, 28, 256)       0         \n",
      "_________________________________________________________________\n",
      "conv_pad_6 (ZeroPadding2D)   (None, 29, 29, 256)       0         \n",
      "_________________________________________________________________\n",
      "conv_dw_6 (DepthwiseConv2D)  (None, 14, 14, 256)       2304      \n",
      "_________________________________________________________________\n",
      "conv_dw_6_bn (BatchNormaliza (None, 14, 14, 256)       1024      \n",
      "_________________________________________________________________\n",
      "conv_dw_6_relu (ReLU)        (None, 14, 14, 256)       0         \n",
      "_________________________________________________________________\n",
      "conv_pw_6 (Conv2D)           (None, 14, 14, 512)       131072    \n",
      "_________________________________________________________________\n",
      "conv_pw_6_bn (BatchNormaliza (None, 14, 14, 512)       2048      \n",
      "_________________________________________________________________\n",
      "conv_pw_6_relu (ReLU)        (None, 14, 14, 512)       0         \n",
      "_________________________________________________________________\n",
      "conv_dw_7 (DepthwiseConv2D)  (None, 14, 14, 512)       4608      \n",
      "_________________________________________________________________\n",
      "conv_dw_7_bn (BatchNormaliza (None, 14, 14, 512)       2048      \n",
      "_________________________________________________________________\n",
      "conv_dw_7_relu (ReLU)        (None, 14, 14, 512)       0         \n",
      "_________________________________________________________________\n",
      "conv_pw_7 (Conv2D)           (None, 14, 14, 512)       262144    \n",
      "_________________________________________________________________\n",
      "conv_pw_7_bn (BatchNormaliza (None, 14, 14, 512)       2048      \n",
      "_________________________________________________________________\n",
      "conv_pw_7_relu (ReLU)        (None, 14, 14, 512)       0         \n",
      "_________________________________________________________________\n",
      "conv_dw_8 (DepthwiseConv2D)  (None, 14, 14, 512)       4608      \n",
      "_________________________________________________________________\n",
      "conv_dw_8_bn (BatchNormaliza (None, 14, 14, 512)       2048      \n",
      "_________________________________________________________________\n",
      "conv_dw_8_relu (ReLU)        (None, 14, 14, 512)       0         \n",
      "_________________________________________________________________\n",
      "conv_pw_8 (Conv2D)           (None, 14, 14, 512)       262144    \n",
      "_________________________________________________________________\n",
      "conv_pw_8_bn (BatchNormaliza (None, 14, 14, 512)       2048      \n",
      "_________________________________________________________________\n",
      "conv_pw_8_relu (ReLU)        (None, 14, 14, 512)       0         \n",
      "_________________________________________________________________\n",
      "conv_dw_9 (DepthwiseConv2D)  (None, 14, 14, 512)       4608      \n",
      "_________________________________________________________________\n",
      "conv_dw_9_bn (BatchNormaliza (None, 14, 14, 512)       2048      \n",
      "_________________________________________________________________\n",
      "conv_dw_9_relu (ReLU)        (None, 14, 14, 512)       0         \n",
      "_________________________________________________________________\n",
      "conv_pw_9 (Conv2D)           (None, 14, 14, 512)       262144    \n",
      "_________________________________________________________________\n",
      "conv_pw_9_bn (BatchNormaliza (None, 14, 14, 512)       2048      \n",
      "_________________________________________________________________\n",
      "conv_pw_9_relu (ReLU)        (None, 14, 14, 512)       0         \n",
      "_________________________________________________________________\n",
      "conv_dw_10 (DepthwiseConv2D) (None, 14, 14, 512)       4608      \n",
      "_________________________________________________________________\n",
      "conv_dw_10_bn (BatchNormaliz (None, 14, 14, 512)       2048      \n",
      "_________________________________________________________________\n",
      "conv_dw_10_relu (ReLU)       (None, 14, 14, 512)       0         \n",
      "_________________________________________________________________\n",
      "conv_pw_10 (Conv2D)          (None, 14, 14, 512)       262144    \n",
      "_________________________________________________________________\n",
      "conv_pw_10_bn (BatchNormaliz (None, 14, 14, 512)       2048      \n",
      "_________________________________________________________________\n",
      "conv_pw_10_relu (ReLU)       (None, 14, 14, 512)       0         \n",
      "_________________________________________________________________\n",
      "conv_dw_11 (DepthwiseConv2D) (None, 14, 14, 512)       4608      \n",
      "_________________________________________________________________\n",
      "conv_dw_11_bn (BatchNormaliz (None, 14, 14, 512)       2048      \n",
      "_________________________________________________________________\n",
      "conv_dw_11_relu (ReLU)       (None, 14, 14, 512)       0         \n",
      "_________________________________________________________________\n",
      "conv_pw_11 (Conv2D)          (None, 14, 14, 512)       262144    \n",
      "_________________________________________________________________\n",
      "conv_pw_11_bn (BatchNormaliz (None, 14, 14, 512)       2048      \n",
      "_________________________________________________________________\n",
      "conv_pw_11_relu (ReLU)       (None, 14, 14, 512)       0         \n",
      "_________________________________________________________________\n",
      "conv_pad_12 (ZeroPadding2D)  (None, 15, 15, 512)       0         \n",
      "_________________________________________________________________\n",
      "conv_dw_12 (DepthwiseConv2D) (None, 7, 7, 512)         4608      \n",
      "_________________________________________________________________\n",
      "conv_dw_12_bn (BatchNormaliz (None, 7, 7, 512)         2048      \n",
      "_________________________________________________________________\n",
      "conv_dw_12_relu (ReLU)       (None, 7, 7, 512)         0         \n",
      "_________________________________________________________________\n",
      "conv_pw_12 (Conv2D)          (None, 7, 7, 1024)        524288    \n",
      "_________________________________________________________________\n",
      "conv_pw_12_bn (BatchNormaliz (None, 7, 7, 1024)        4096      \n",
      "_________________________________________________________________\n",
      "conv_pw_12_relu (ReLU)       (None, 7, 7, 1024)        0         \n",
      "_________________________________________________________________\n",
      "conv_dw_13 (DepthwiseConv2D) (None, 7, 7, 1024)        9216      \n",
      "_________________________________________________________________\n",
      "conv_dw_13_bn (BatchNormaliz (None, 7, 7, 1024)        4096      \n",
      "_________________________________________________________________\n",
      "conv_dw_13_relu (ReLU)       (None, 7, 7, 1024)        0         \n",
      "_________________________________________________________________\n",
      "conv_pw_13 (Conv2D)          (None, 7, 7, 1024)        1048576   \n",
      "_________________________________________________________________\n",
      "conv_pw_13_bn (BatchNormaliz (None, 7, 7, 1024)        4096      \n",
      "_________________________________________________________________\n",
      "conv_pw_13_relu (ReLU)       (None, 7, 7, 1024)        0         \n",
      "_________________________________________________________________\n",
      "global_average_pooling2d_1 ( (None, 1024)              0         \n",
      "_________________________________________________________________\n",
      "reshape_1 (Reshape)          (None, 1, 1, 1024)        0         \n",
      "_________________________________________________________________\n",
      "dropout (Dropout)            (None, 1, 1, 1024)        0         \n",
      "_________________________________________________________________\n",
      "conv_preds (Conv2D)          (None, 1, 1, 1000)        1025000   \n",
      "_________________________________________________________________\n",
      "reshape_2 (Reshape)          (None, 1000)              0         \n",
      "_________________________________________________________________\n",
      "predictions (Activation)     (None, 1000)              0         \n",
      "=================================================================\n",
      "Total params: 4,253,864\n",
      "Trainable params: 4,231,976\n",
      "Non-trainable params: 21,888\n",
      "_________________________________________________________________\n"
     ]
    }
   ],
   "source": [
    "mobile.summary()"
   ]
  },
  {
   "cell_type": "code",
   "execution_count": 58,
   "id": "standard-miller",
   "metadata": {},
   "outputs": [],
   "source": [
    "get_layer_output_1= K.function([mobile.layers[0].input],\n",
    "                                  [mobile.get_layer('conv_pw_5').output])\n",
    "get_layer_output_2= K.function([mobile.layers[0].input],\n",
    "                                  [mobile.get_layer('conv_pw_10').output])\n",
    "get_layer_output_3= K.function([mobile.layers[0].input],\n",
    "                                  [mobile.get_layer('conv_pw_12').output])\n",
    "get_layer_output_4= K.function([mobile.layers[0].input],\n",
    "                                  [mobile.get_layer('conv_pw_1').output])\n",
    "get_layer_output_5= K.function([mobile.layers[0].input],\n",
    "                                  [mobile.get_layer('conv_pw_2').output])\n",
    "get_layer_output_6= K.function([mobile.layers[0].input],\n",
    "                                  [mobile.get_layer('conv_pw_4').output])"
   ]
  },
  {
   "cell_type": "code",
   "execution_count": 59,
   "id": "sitting-perfume",
   "metadata": {},
   "outputs": [],
   "source": [
    "layer_output1 = (get_layer_output_3(preprocessed_image))[0]"
   ]
  },
  {
   "cell_type": "code",
   "execution_count": 60,
   "id": "arabic-hebrew",
   "metadata": {},
   "outputs": [
    {
     "data": {
      "text/plain": [
       "(1, 7, 7, 1024)"
      ]
     },
     "execution_count": 60,
     "metadata": {},
     "output_type": "execute_result"
    }
   ],
   "source": [
    "layer_output1.shape"
   ]
  },
  {
   "cell_type": "code",
   "execution_count": 61,
   "id": "passing-liechtenstein",
   "metadata": {},
   "outputs": [
    {
     "data": {
      "text/plain": [
       "(1, 7, 7, 1024)"
      ]
     },
     "execution_count": 61,
     "metadata": {},
     "output_type": "execute_result"
    }
   ],
   "source": [
    "np.array(layer_output1).shape"
   ]
  },
  {
   "cell_type": "code",
   "execution_count": 62,
   "id": "israeli-inclusion",
   "metadata": {},
   "outputs": [],
   "source": [
    "hello=np.reshape(layer_output1[0], [-1, 256])/np.std(np.reshape(layer_output1[0], [-1, 256]))"
   ]
  },
  {
   "cell_type": "code",
   "execution_count": 63,
   "id": "unsigned-margin",
   "metadata": {},
   "outputs": [
    {
     "data": {
      "text/plain": [
       "(196, 256)"
      ]
     },
     "execution_count": 63,
     "metadata": {},
     "output_type": "execute_result"
    }
   ],
   "source": [
    "hello.shape"
   ]
  },
  {
   "cell_type": "code",
   "execution_count": 64,
   "id": "geographic-rates",
   "metadata": {},
   "outputs": [],
   "source": [
    "def ret_descriptors(file):\n",
    "    img_path = '/Users/karthik/Downloads/'\n",
    "    img = image.load_img(img_path + file, target_size=(224, 224))\n",
    "    img_array = image.img_to_array(img)\n",
    "    img_array_expanded_dims = np.expand_dims(img_array, axis=0)\n",
    "    preprocessed_image = keras.applications.mobilenet.preprocess_input(img_array_expanded_dims)\n",
    "    predictions = mobile.predict(preprocessed_image)\n",
    "    results = imagenet_utils.decode_predictions(predictions)\n",
    "    get_layer_output_1= K.function([mobile.layers[0].input],[mobile.get_layer('conv_pw_1').output])\n",
    "    get_layer_output_2= K.function([mobile.layers[0].input],[mobile.get_layer('conv_pw_2').output])\n",
    "    get_layer_output_3= K.function([mobile.layers[0].input],[mobile.get_layer('conv_pw_3').output])\n",
    "    get_layer_output_4= K.function([mobile.layers[0].input],[mobile.get_layer('conv_pw_4').output])\n",
    "    get_layer_output_5= K.function([mobile.layers[0].input],[mobile.get_layer('conv_pw_5').output])\n",
    "    get_layer_output_6= K.function([mobile.layers[0].input],[mobile.get_layer('conv_pw_6').output])\n",
    "    get_layer_output_7= K.function([mobile.layers[0].input],[mobile.get_layer('conv_pw_7').output])\n",
    "    get_layer_output_8= K.function([mobile.layers[0].input],[mobile.get_layer('conv_pw_8').output])\n",
    "    get_layer_output_9= K.function([mobile.layers[0].input],[mobile.get_layer('conv_pw_9').output])\n",
    "    get_layer_output_10= K.function([mobile.layers[0].input],[mobile.get_layer('conv_pw_10').output])\n",
    "    get_layer_output_11= K.function([mobile.layers[0].input],[mobile.get_layer('conv_pw_11').output])\n",
    "    get_layer_output_12= K.function([mobile.layers[0].input],[mobile.get_layer('conv_pw_12').output])\n",
    "    get_layer_output_13= K.function([mobile.layers[0].input],[mobile.get_layer('conv_pw_13').output])\n",
    "    layer_output1 = (get_layer_output_1(preprocessed_image))[0]\n",
    "    layer_output2 = (get_layer_output_2(preprocessed_image))[0]\n",
    "    layer_output3 = (get_layer_output_3(preprocessed_image))[0]\n",
    "    layer_output4 = (get_layer_output_4(preprocessed_image))[0]\n",
    "    layer_output5 = (get_layer_output_5(preprocessed_image))[0]\n",
    "    layer_output6 = (get_layer_output_6(preprocessed_image))[0]\n",
    "    layer_output7 = (get_layer_output_7(preprocessed_image))[0]\n",
    "    layer_output8 = (get_layer_output_8(preprocessed_image))[0]\n",
    "    layer_output9 = (get_layer_output_9(preprocessed_image))[0]\n",
    "    layer_output10 = (get_layer_output_10(preprocessed_image))[0]\n",
    "    layer_output11 = (get_layer_output_11(preprocessed_image))[0]\n",
    "    layer_output12 = (get_layer_output_12(preprocessed_image))[0]\n",
    "    layer_output13 = (get_layer_output_13(preprocessed_image))[0]\n",
    "    return [np.reshape(layer_output1, [-1, 64])/np.std(np.reshape(layer_output1[0], [-1, 64])),np.reshape(layer_output2[0], [-1, 128])/np.std(np.reshape(layer_output2[0], [-1, 128])),np.reshape(layer_output3[0], [-1, 128])/np.std(np.reshape(layer_output3[0], [-1, 128])), np.reshape(layer_output4[0], [-1, 256])/np.std(np.reshape(layer_output4[0], [-1, 256])),np.reshape(layer_output5[0], [-1, 256])/np.std(np.reshape(layer_output5[0], [-1, 256])), np.reshape(layer_output6[0], [-1, 512])/np.std(np.reshape(layer_output6[0], [-1, 512])), np.reshape(layer_output7[0], [-1, 512])/np.std(np.reshape(layer_output7[0], [-1, 512])),np.reshape(layer_output8[0], [-1, 512])/np.std(np.reshape(layer_output8[0], [-1, 512])), np.reshape(layer_output9[0], [-1, 512])/np.std(np.reshape(layer_output9[0], [-1, 512])), np.reshape(layer_output10[0], [-1, 512])/np.std(np.reshape(layer_output10[0], [-1, 512])), np.reshape(layer_output11[0], [-1, 512])/np.std(np.reshape(layer_output11[0], [-1, 512])), np.reshape(layer_output12[0], [-1, 1024])/np.std(np.reshape(layer_output12[0], [-1, 1024])), np.reshape(layer_output13[0], [-1, 1024])/np.std(np.reshape(layer_output13[0], [-1, 1024]))]"
   ]
  },
  {
   "cell_type": "code",
   "execution_count": 65,
   "id": "religious-lawyer",
   "metadata": {},
   "outputs": [],
   "source": [
    "get_layer_output_5= K.function([mobile.layers[0].input],[mobile.get_layer('conv_pw_1').output])\n",
    "layer_output5 = (get_layer_output_5(preprocessed_image))[0]"
   ]
  },
  {
   "cell_type": "code",
   "execution_count": 66,
   "id": "fuzzy-hazard",
   "metadata": {},
   "outputs": [
    {
     "data": {
      "text/plain": [
       "(1, 112, 112, 64)"
      ]
     },
     "execution_count": 66,
     "metadata": {},
     "output_type": "execute_result"
    }
   ],
   "source": [
    "layer_output5.shape"
   ]
  },
  {
   "cell_type": "code",
   "execution_count": 67,
   "id": "constitutional-worst",
   "metadata": {},
   "outputs": [],
   "source": [
    "hello=np.reshape(layer_output5[0], [-1, 256])/np.std(np.reshape(layer_output5[0], [-1, 256]))"
   ]
  },
  {
   "cell_type": "code",
   "execution_count": 68,
   "id": "worthy-seating",
   "metadata": {},
   "outputs": [
    {
     "data": {
      "text/plain": [
       "(3136, 256)"
      ]
     },
     "execution_count": 68,
     "metadata": {},
     "output_type": "execute_result"
    }
   ],
   "source": [
    "hello.shape"
   ]
  },
  {
   "cell_type": "code",
   "execution_count": 69,
   "id": "indoor-municipality",
   "metadata": {},
   "outputs": [],
   "source": [
    "import numpy as np"
   ]
  },
  {
   "cell_type": "code",
   "execution_count": 70,
   "id": "annoying-sterling",
   "metadata": {},
   "outputs": [
    {
     "name": "stderr",
     "output_type": "stream",
     "text": [
      "/usr/local/anaconda3/envs/smlr/lib/python3.7/site-packages/ipykernel_launcher.py:1: VisibleDeprecationWarning: Creating an ndarray from ragged nested sequences (which is a list-or-tuple of lists-or-tuples-or ndarrays with different lengths or shapes) is deprecated. If you meant to do this, you must specify 'dtype=object' when creating the ndarray.\n",
      "  \"\"\"Entry point for launching an IPython kernel.\n"
     ]
    },
    {
     "data": {
      "text/plain": [
       "(13,)"
      ]
     },
     "execution_count": 70,
     "metadata": {},
     "output_type": "execute_result"
    }
   ],
   "source": [
    "np.array(ret_descriptors(\"a.jpg\")).shape"
   ]
  },
  {
   "cell_type": "code",
   "execution_count": 71,
   "id": "standing-operator",
   "metadata": {},
   "outputs": [],
   "source": [
    "seq = np.array([[i, j] for i in range(28) for j in range(28)], dtype='int32')"
   ]
  },
  {
   "cell_type": "code",
   "execution_count": 72,
   "id": "phantom-barrier",
   "metadata": {},
   "outputs": [
    {
     "data": {
      "text/plain": [
       "[array([[ 0.11396625,  0.43240026,  1.2064537 , ...,  1.0190084 ,\n",
       "          2.4639566 , -1.5383178 ],\n",
       "        [ 0.02134439,  0.08774249,  1.4093981 , ...,  0.5446916 ,\n",
       "          1.2716473 , -1.7066302 ],\n",
       "        [ 1.3818007 ,  0.2811243 ,  1.3261648 , ...,  0.469703  ,\n",
       "          1.5733498 , -1.7276334 ],\n",
       "        ...,\n",
       "        [ 0.46537876, -0.02812137,  1.6373869 , ...,  0.6691721 ,\n",
       "          1.679022  , -1.9927223 ],\n",
       "        [ 0.3358252 , -0.03906616,  1.6323891 , ...,  0.64699054,\n",
       "          1.5493647 , -1.9765056 ],\n",
       "        [-0.35470855, -0.06544934,  1.5706896 , ...,  0.53107965,\n",
       "          0.8776458 , -1.9766587 ]], dtype=float32),\n",
       " array([[-1.8867458e+00,  8.8803810e-01, -8.5154392e-02, ...,\n",
       "         -1.4454353e-02, -1.1066777e-01, -1.8952598e-01],\n",
       "        [-1.7728058e+00,  5.7316679e-01,  9.9137016e-02, ...,\n",
       "          7.5110555e-02,  1.5622616e-01, -2.6906827e-01],\n",
       "        [-2.3308420e+00,  5.9670079e-01, -1.4559779e-01, ...,\n",
       "          1.1057054e-01, -1.5216358e-01, -2.8280455e-01],\n",
       "        ...,\n",
       "        [-2.1915460e+00,  8.8285857e-01, -3.5794449e-01, ...,\n",
       "         -4.7857337e-02, -5.1792991e-01, -4.2606395e-01],\n",
       "        [-2.6321640e+00,  5.4569107e-01, -7.8162085e-04, ...,\n",
       "         -2.3256827e-02, -2.8037176e-01, -2.6268077e-01],\n",
       "        [-2.2726784e+00,  9.8939407e-01, -2.3582615e-02, ...,\n",
       "          1.4962450e-01, -1.9944377e-01, -2.7034712e-01]], dtype=float32),\n",
       " array([[ 0.00681346,  0.2859832 , -0.8689    , ...,  0.15644228,\n",
       "          1.3109661 , -1.0479753 ],\n",
       "        [-0.22017704,  0.26879632,  1.1663771 , ...,  0.7417426 ,\n",
       "          1.2738208 , -0.22900078],\n",
       "        [-0.7476331 ,  0.47248945,  1.0473431 , ...,  0.1701938 ,\n",
       "          1.2222822 , -0.6017935 ],\n",
       "        ...,\n",
       "        [-0.01559795,  1.3469477 , -0.19984089, ...,  1.0058839 ,\n",
       "          1.9516091 , -0.6459799 ],\n",
       "        [-0.3763678 ,  0.6041545 ,  1.1782397 , ...,  1.0218396 ,\n",
       "          1.4268935 , -0.1042252 ],\n",
       "        [-0.11614502,  2.5142367 ,  0.49615863, ...,  0.68458015,\n",
       "          2.6334922 , -0.8189741 ]], dtype=float32),\n",
       " array([[-1.4024091 ,  0.04751066, -0.73255277, ..., -1.2448792 ,\n",
       "         -0.41464275,  1.4817107 ],\n",
       "        [-0.4420336 , -0.2563653 , -0.8261053 , ..., -0.42429906,\n",
       "         -0.61461425,  0.8638995 ],\n",
       "        [-0.8726744 , -0.10182737, -1.0601674 , ..., -0.59126985,\n",
       "         -0.36919674,  0.6484974 ],\n",
       "        ...,\n",
       "        [-1.3593614 , -0.5461178 , -1.3384961 , ..., -0.9331955 ,\n",
       "         -0.64107084,  0.33294958],\n",
       "        [-1.5308851 , -0.5905212 , -1.335387  , ..., -1.5839847 ,\n",
       "         -0.26165524,  0.5498501 ],\n",
       "        [-1.2107898 , -0.42928928, -0.95492905, ..., -2.5128407 ,\n",
       "         -0.01634451,  1.1909479 ]], dtype=float32),\n",
       " array([[-1.6031544 ,  3.4954646 ,  0.18550685, ..., -0.86320037,\n",
       "         -0.8601794 , -1.1159078 ],\n",
       "        [-1.3042833 ,  2.2358527 ,  0.11027256, ..., -0.65421784,\n",
       "          0.10500541, -0.9013677 ],\n",
       "        [-1.2962682 ,  1.73052   ,  0.42259997, ..., -1.1074749 ,\n",
       "          0.00987284, -1.3318158 ],\n",
       "        ...,\n",
       "        [-1.9557015 ,  1.9440678 , -0.8836671 , ..., -0.69955575,\n",
       "         -0.20921429, -1.6253363 ],\n",
       "        [-2.1193492 ,  1.7981842 ,  0.2974497 , ..., -0.7260519 ,\n",
       "          0.3900687 , -1.3184754 ],\n",
       "        [-2.4268212 ,  2.2011228 , -0.7521722 , ..., -1.2042913 ,\n",
       "          0.11565938, -0.40433103]], dtype=float32),\n",
       " array([[-0.02002933,  0.16738202, -0.24367385, ...,  0.982429  ,\n",
       "         -0.8910948 ,  0.2734816 ],\n",
       "        [-0.04960949,  0.6523277 , -0.18710074, ...,  1.0527949 ,\n",
       "         -1.2548772 , -0.10030847],\n",
       "        [-0.40531066,  0.96344244, -0.18996945, ...,  0.65002114,\n",
       "         -1.2897006 , -0.41017574],\n",
       "        ...,\n",
       "        [-0.10429813,  0.72980636,  0.15840676, ...,  0.66848654,\n",
       "         -0.9024088 , -0.02631565],\n",
       "        [ 0.75784844,  0.05424161, -0.5159023 , ...,  0.35377178,\n",
       "         -0.80033827, -0.20141557],\n",
       "        [-0.3386943 ,  0.2151671 , -0.11318797, ...,  1.754124  ,\n",
       "         -0.5752665 , -0.3816147 ]], dtype=float32),\n",
       " array([[-1.802722  ,  1.208331  ,  1.298002  , ...,  2.0644703 ,\n",
       "         -1.5877161 ,  0.09569316],\n",
       "        [-0.47597456,  1.6397748 ,  0.6430579 , ...,  1.1007444 ,\n",
       "         -0.73102844,  0.07420114],\n",
       "        [-0.45668212,  2.3008974 ,  0.47862172, ...,  1.520353  ,\n",
       "         -0.7931221 ,  0.17755806],\n",
       "        ...,\n",
       "        [ 0.843942  ,  0.91674   ,  0.65047354, ...,  0.18590668,\n",
       "         -2.3575737 , -1.3074406 ],\n",
       "        [ 0.61632884,  0.93758774, -0.07163181, ...,  0.61022794,\n",
       "         -1.9101593 , -0.5364523 ],\n",
       "        [-0.5137742 ,  0.18610005,  1.4695987 , ...,  1.0147313 ,\n",
       "         -1.306687  ,  0.88926333]], dtype=float32),\n",
       " array([[ 0.14972591, -0.43381613, -1.395874  , ...,  1.3844482 ,\n",
       "          0.32101694,  3.0715673 ],\n",
       "        [-0.02409401, -0.5386598 , -2.133012  , ...,  0.6697569 ,\n",
       "          0.34885406,  2.5775769 ],\n",
       "        [ 0.03087213, -0.66836137, -2.0343742 , ...,  0.24605723,\n",
       "          0.12349546,  1.1332207 ],\n",
       "        ...,\n",
       "        [ 0.70711154,  0.37384763, -2.8861935 , ...,  0.31284672,\n",
       "         -0.69212955,  1.8817226 ],\n",
       "        [ 0.6767851 , -1.0453252 , -3.0206158 , ...,  0.63843495,\n",
       "         -0.54448396,  2.016677  ],\n",
       "        [ 1.4398854 , -1.0820256 , -2.454179  , ...,  0.5558578 ,\n",
       "          0.11780962,  1.4449215 ]], dtype=float32),\n",
       " array([[ 0.06752738,  1.4414268 ,  1.9876819 , ...,  0.40852267,\n",
       "          0.18543407, -1.5175872 ],\n",
       "        [-0.3400509 ,  1.1158749 ,  1.9181387 , ...,  0.01735034,\n",
       "          0.01996475, -2.1033845 ],\n",
       "        [-0.71716523,  1.3189404 ,  1.453716  , ..., -0.10108723,\n",
       "         -0.48861715, -2.038074  ],\n",
       "        ...,\n",
       "        [-1.1219462 ,  1.4748216 ,  2.6636753 , ...,  0.04737152,\n",
       "         -0.31630132, -2.531566  ],\n",
       "        [-0.13628034,  0.41487122,  1.0998787 , ...,  0.2518684 ,\n",
       "         -0.7896965 , -2.5757892 ],\n",
       "        [-1.478312  ,  0.1400586 ,  0.8319072 , ...,  0.25056288,\n",
       "         -1.6475134 , -3.08915   ]], dtype=float32),\n",
       " array([[ 0.00651219,  1.2734237 ,  0.11240302, ...,  0.18421124,\n",
       "          2.566161  , -1.0625619 ],\n",
       "        [-0.41169298,  1.2863449 , -0.6804794 , ...,  0.08846451,\n",
       "          0.45398965, -0.7145663 ],\n",
       "        [-0.5261489 ,  0.79613644, -0.802071  , ...,  0.11868168,\n",
       "          0.25417936, -0.95072526],\n",
       "        ...,\n",
       "        [-1.0290709 ,  1.6060992 , -0.89553016, ...,  0.6396502 ,\n",
       "         -0.15390067, -0.9968741 ],\n",
       "        [-0.28190538,  0.5577526 , -0.26749092, ..., -0.02561297,\n",
       "          0.4472034 , -0.09233033],\n",
       "        [-0.48696414,  1.8755144 , -0.6893426 , ...,  0.95144737,\n",
       "          0.7097449 , -1.0484687 ]], dtype=float32),\n",
       " array([[-0.33274424,  1.2704453 ,  3.0989566 , ..., -0.5645619 ,\n",
       "         -0.6913082 ,  1.5988055 ],\n",
       "        [-0.8625108 ,  0.10362796,  2.126023  , ..., -1.054447  ,\n",
       "         -0.73176444,  1.6075743 ],\n",
       "        [-0.3133905 , -0.9908486 ,  2.0597064 , ..., -1.0029486 ,\n",
       "         -0.29406604,  0.90079683],\n",
       "        ...,\n",
       "        [-0.95055324,  0.41329575,  2.7152348 , ..., -1.0586339 ,\n",
       "         -0.48453492,  1.454116  ],\n",
       "        [-0.3816315 ,  0.02609667,  2.4725528 , ..., -1.2528625 ,\n",
       "         -0.49838403,  2.4798913 ],\n",
       "        [-0.4659065 , -0.09642461,  2.1159844 , ..., -0.498919  ,\n",
       "         -0.8113486 ,  2.54339   ]], dtype=float32),\n",
       " array([[ 0.8085895 , -0.07990868,  0.2351939 , ..., -0.7431498 ,\n",
       "         -1.1354672 , -0.55970323],\n",
       "        [ 0.350612  ,  0.07670887,  0.11319535, ...,  0.27103382,\n",
       "         -1.0813432 , -0.49903825],\n",
       "        [ 0.43719128,  0.00287063,  0.10438286, ...,  0.16263765,\n",
       "         -1.0617642 , -0.6153439 ],\n",
       "        ...,\n",
       "        [ 0.49005234,  0.49737528,  0.53139627, ...,  0.00960005,\n",
       "         -0.38483992, -0.3415587 ],\n",
       "        [ 0.7150772 ,  0.58689624,  0.14023265, ..., -0.11371886,\n",
       "         -0.5875028 , -0.43724412],\n",
       "        [ 0.97844744,  0.5831992 ,  0.01727032, ..., -0.43262675,\n",
       "         -1.0172198 , -0.379854  ]], dtype=float32),\n",
       " array([[-0.8355157 , -1.0418113 , -0.95744324, ...,  0.27710333,\n",
       "         -1.7865107 ,  0.8606266 ],\n",
       "        [-1.0167116 , -1.0798753 , -0.9710892 , ...,  0.26388955,\n",
       "         -1.9058845 ,  0.7214378 ],\n",
       "        [-1.378096  , -1.2434689 , -0.8439096 , ...,  0.27629635,\n",
       "         -1.8440024 ,  0.05829148],\n",
       "        ...,\n",
       "        [-0.2062665 , -0.9428794 , -0.91670525, ...,  0.22772117,\n",
       "         -1.2776691 , -0.3734513 ],\n",
       "        [ 0.06891169, -1.0187201 , -1.2358893 , ...,  0.05915816,\n",
       "         -1.5361147 , -0.34088638],\n",
       "        [ 0.13554168, -1.0815014 , -1.260344  , ...,  0.3895806 ,\n",
       "         -1.9427035 ,  0.0111475 ]], dtype=float32)]"
      ]
     },
     "execution_count": 72,
     "metadata": {},
     "output_type": "execute_result"
    }
   ],
   "source": [
    "ret_descriptors(\"a.jpg\")"
   ]
  },
  {
   "cell_type": "code",
   "execution_count": 73,
   "id": "interracial-tobago",
   "metadata": {},
   "outputs": [],
   "source": [
    "from __future__ import print_function\n",
    "import time\n",
    "import gc\n",
    "from utils.utils import *\n",
    "import cv2\n",
    "from utils.shape_context import ShapeContext\n",
    "import matplotlib.pyplot as plt"
   ]
  },
  {
   "cell_type": "code",
   "execution_count": 74,
   "id": "right-puppy",
   "metadata": {},
   "outputs": [],
   "source": [
    "from lap import lapjv"
   ]
  },
  {
   "cell_type": "code",
   "execution_count": 75,
   "id": "capable-essex",
   "metadata": {},
   "outputs": [],
   "source": [
    "[D1,D2,D3,D4,D5,D6,D7,D8,D9,D10,D11,D12,D13]=ret_descriptors(\"a.jpg\")\n",
    "[F1,F2,F3,F4,F5,F6,F7,F8,F9,F10,F11,F12,F13]=ret_descriptors(\"b.jpg\")"
   ]
  },
  {
   "cell_type": "code",
   "execution_count": 76,
   "id": "assumed-attitude",
   "metadata": {},
   "outputs": [
    {
     "data": {
      "text/plain": [
       "(3136, 128)"
      ]
     },
     "execution_count": 76,
     "metadata": {},
     "output_type": "execute_result"
    }
   ],
   "source": [
    "D3.shape"
   ]
  },
  {
   "cell_type": "code",
   "execution_count": 77,
   "id": "otherwise-brook",
   "metadata": {},
   "outputs": [],
   "source": [
    "import math"
   ]
  },
  {
   "cell_type": "code",
   "execution_count": 78,
   "id": "flexible-muscle",
   "metadata": {},
   "outputs": [
    {
     "name": "stdout",
     "output_type": "stream",
     "text": [
      "(12544, 64)\n",
      "(3136, 128)\n",
      "(3136, 128)\n",
      "(784, 256)\n",
      "(784, 256)\n",
      "(196, 512)\n",
      "(196, 512)\n",
      "(196, 512)\n",
      "(196, 512)\n",
      "(196, 512)\n",
      "(196, 512)\n",
      "(49, 1024)\n",
      "(49, 1024)\n"
     ]
    }
   ],
   "source": [
    "print(D1.shape)\n",
    "print(D2.shape)\n",
    "print(D3.shape)\n",
    "print(D4.shape)\n",
    "print(D5.shape)\n",
    "print(D6.shape)\n",
    "print(D7.shape)\n",
    "print(D8.shape)\n",
    "print(D9.shape)\n",
    "print(D10.shape)\n",
    "print(D11.shape)\n",
    "print(D12.shape)\n",
    "print(D13.shape)"
   ]
  },
  {
   "cell_type": "code",
   "execution_count": 79,
   "id": "cosmetic-financing",
   "metadata": {},
   "outputs": [
    {
     "data": {
      "text/plain": [
       "(784, 784)"
      ]
     },
     "execution_count": 79,
     "metadata": {},
     "output_type": "execute_result"
    }
   ],
   "source": [
    "pairwise_distance(D4,F4).shape"
   ]
  },
  {
   "cell_type": "code",
   "execution_count": 80,
   "id": "coral-projection",
   "metadata": {},
   "outputs": [],
   "source": [
    "def register(D1,D2,D3,D4,D5,D6,D7,D8,D9,D10,D11,D12,D13,F1,F2,F3,F4,F5,F6,F7,F8,F9,F10,F11,F12,F13):\n",
    "    height = 224\n",
    "    width = 224\n",
    "    shape = np.array([224.0, 224.0])\n",
    "    sift_weight = 2.0\n",
    "    cnn_weight = 1.0\n",
    "    max_itr = 200\n",
    "    tolerance = 1e-2\n",
    "    freq = 5 # k in the paper\n",
    "    epsilon = 0.5\n",
    "    omega = 0.5\n",
    "    lambd = 0.5\n",
    "\n",
    "    PD1=pairwise_distance(D5,F5)\n",
    "    PD2=pairwise_distance(D4,F4)\n",
    "    PD3=pd_expand(pairwise_distance(D6,F6),2)\n",
    "    PD4=pd_expand(pairwise_distance(D7,F7),2)\n",
    "    PD6=pd_expand(pairwise_distance(D8,F8),2)\n",
    "    PD7=pd_expand(pairwise_distance(D9,F9),2)\n",
    "    PD8=pd_expand(pairwise_distance(D10,F10),2)\n",
    "    PD9=pd_expand(pairwise_distance(D11,F11),2)\n",
    "    PD10=pd_expand(pairwise_distance(D12,F12),4)\n",
    "    PD11=pd_expand(pairwise_distance(D13,F13),4)\n",
    "    PD=PD1+PD7+PD8+PD10\n",
    "    \n",
    "    seq = np.array([[i, j] for i in range(28) for j in range(28)], dtype='int32')\n",
    "\n",
    "    X = np.array(seq, dtype='float32') * 8.0 + 4.0\n",
    "    Y = np.array(seq, dtype='float32') * 8.0 + 4.0\n",
    "\n",
    "    # normalize\n",
    "    X = (X - 112.0) / 224.0\n",
    "    Y = (Y - 112.0) / 224.0\n",
    "\n",
    "    # prematch and select points\n",
    "    C_all, quality = match(PD)\n",
    "    tau_max = np.max(quality)\n",
    "    while np.where(quality >= tau_max)[0].shape[0] <= 128: tau_max -= 0.01\n",
    "\n",
    "    C = C_all[np.where(quality >= tau_max)]\n",
    "    cnt = C.shape[0]\n",
    "\n",
    "    # select prematched feature points\n",
    "    X, Y = X[C[:, 1]], Y[C[:, 0]]\n",
    "    PD = PD[np.repeat(np.reshape(C[:, 1], [cnt, 1]), cnt, axis=1),\n",
    "            np.repeat(np.reshape(C[:, 0], [1, cnt]), cnt, axis=0)]\n",
    "\n",
    "    N = X.shape[0]\n",
    "    M = X.shape[0]\n",
    "    assert M == N\n",
    "\n",
    "    # precalculation of feature match\n",
    "    C_all, quality = match(PD)\n",
    "\n",
    "    # compute \\hat{\\theta} and \\delta\n",
    "    tau_min = np.min(quality)\n",
    "    tau_max = np.max(quality)\n",
    "    while np.where(quality >= tau_max)[0].shape[0] <= 0.5 * cnt: tau_max -= 0.01\n",
    "    tau = tau_max\n",
    "    delta = (tau_max - tau_min) / 10.0\n",
    "\n",
    "    SCX = ShapeContext().compute(X)\n",
    "\n",
    "    # initialization\n",
    "    Z = Y.copy()\n",
    "    GRB = gaussian_radial_basis(Y, 2.0)\n",
    "    A = np.zeros([M, 2])\n",
    "    sigma2 = init_sigma2(X, Y)\n",
    "\n",
    "    Pr = None\n",
    "\n",
    "    Q = 0\n",
    "    dQ = float('Inf')\n",
    "    itr = 1\n",
    "\n",
    "    # registration process\n",
    "    while itr < max_itr and abs(dQ) > tolerance and sigma2 > 1e-4:\n",
    "        Z_old = Z.copy()\n",
    "        Q_old = Q\n",
    "\n",
    "        # for every k iterations\n",
    "        if (itr - 1) % freq == 0:\n",
    "            # compute C^{conv}_{\\theta}\n",
    "            C = C_all[np.where(quality >= tau)]\n",
    "            Lt = PD[C[:, 0], C[:, 1]]\n",
    "            maxLt = np.max(Lt)\n",
    "            if maxLt > 0: Lt = Lt / maxLt\n",
    "            L = np.ones([M, N])\n",
    "            L[C[:, 0], C[:, 1]] = Lt\n",
    "\n",
    "            # compute C^{geo}_{\\theta}\n",
    "            SCZ = ShapeContext().compute(Z)\n",
    "            SC_cost = ShapeContext().cost(SCZ, SCX)\n",
    "\n",
    "            # compute C\n",
    "            L = L * SC_cost\n",
    "\n",
    "            # linear assignment\n",
    "            C = lapjv(L)[1]\n",
    "\n",
    "            # prior probability matrix\n",
    "            Pr = np.ones_like(PD) * (1.0 - epsilon) / N\n",
    "            Pr[np.arange(C.shape[0]), C] = 1.0\n",
    "            Pr = Pr / np.sum(Pr, axis=0)\n",
    "\n",
    "            tau = tau - delta\n",
    "            if tau < tau_min: tau = tau_min\n",
    "\n",
    "        # compute minimization\n",
    "        Po, P1, Np, tmp, Q = compute(X, Y, Z_old, Pr, sigma2, omega)\n",
    "        Q = Q + lambd / 2 * np.trace(np.dot(np.dot(A.transpose(), GRB), A))\n",
    "\n",
    "        # update variables\n",
    "        dP = np.diag(P1)\n",
    "        t1 = np.dot(dP, GRB) + lambd * sigma2 * np.eye(M)\n",
    "        t2 = np.dot(Po, X) - np.dot(dP, Y)\n",
    "        A = np.dot(np.linalg.inv(t1), t2)\n",
    "        sigma2 = tmp / (2.0 * Np)\n",
    "        omega = 1 - (Np / N)\n",
    "        if omega > 0.99: omega = 0.99\n",
    "        if omega < 0.01: omega = 0.01\n",
    "        Z = Y + np.dot(GRB, A)\n",
    "        lambd = lambd * 0.95\n",
    "        if lambd < 0.1: lambd = 0.1\n",
    "\n",
    "        dQ = Q - Q_old\n",
    "        itr = itr + 1\n",
    "\n",
    "    print('finish: itr %d, Q %d, tau %d' % (itr, Q, tau))\n",
    "    Xscale = 1.0 * np.array(IX.shape[:2]) / shape\n",
    "    Yscale = 1.0 * np.array(IY.shape[:2]) / shape\n",
    "    return(((X*224.0)+112.0)*Xscale, ((Y*224.0)+112.0)*Yscale, ((Z*224.0)+112.0)*Xscale)\n"
   ]
  },
  {
   "cell_type": "code",
   "execution_count": 81,
   "id": "brutal-education",
   "metadata": {},
   "outputs": [],
   "source": [
    "IX_path = '/Users/karthik/Downloads/a.jpg'\n",
    "IY_path = '/Users/karthik/Downloads/b.jpg'\n",
    "\n",
    "IX = cv2.imread(IX_path)\n",
    "IY = cv2.imread(IY_path)"
   ]
  },
  {
   "cell_type": "code",
   "execution_count": 82,
   "id": "tight-savannah",
   "metadata": {},
   "outputs": [],
   "source": [
    "import cv2 as cv"
   ]
  },
  {
   "cell_type": "code",
   "execution_count": 83,
   "id": "judicial-moscow",
   "metadata": {},
   "outputs": [
    {
     "name": "stdout",
     "output_type": "stream",
     "text": [
      "finish: itr 14, Q -579, tau 1\n"
     ]
    },
    {
     "data": {
      "image/png": "[encoded data removed]",
      "text/plain": [
       "<Figure size 432x288 with 3 Axes>"
      ]
     },
     "metadata": {
      "needs_background": "light"
     },
     "output_type": "display_data"
    }
   ],
   "source": [
    "X, Y, Z = register(D1,D2,D3,D4,D5,D6,D7,D8,D9,D10,D11,D12,D13,F1,F2,F3,F4,F5,F6,F7,F8,F9,F10,F11,F12,F13)\n",
    "#generate regsitered image using TPS\n",
    "registered = tps_warp(Y, Z, IY, IX.shape)\n",
    "cb = checkboard(IX, registered)\n",
    "\n",
    "plt.subplot(131)\n",
    "plt.title('reference')\n",
    "plt.imshow(cv.cvtColor(IX, cv.COLOR_BGR2RGB))\n",
    "plt.subplot(132)\n",
    "plt.title('registered')\n",
    "plt.imshow(cv.cvtColor(registered, cv.COLOR_BGR2RGB))\n",
    "plt.subplot(133)\n",
    "plt.title('checkboard')\n",
    "plt.imshow(cv.cvtColor(cb, cv.COLOR_BGR2RGB))\n",
    "plt.show()"
   ]
  },
  {
   "cell_type": "code",
   "execution_count": 84,
   "id": "identified-haiti",
   "metadata": {},
   "outputs": [
    {
     "data": {
      "text/plain": [
       "True"
      ]
     },
     "execution_count": 84,
     "metadata": {},
     "output_type": "execute_result"
    }
   ],
   "source": [
    "cv.imwrite('stitch_.jpg', cv.cvtColor(cb, cv.COLOR_BGR2RGB))"
   ]
  },
  {
   "cell_type": "code",
   "execution_count": 86,
   "id": "facial-sharing",
   "metadata": {},
   "outputs": [
    {
     "name": "stdout",
     "output_type": "stream",
     "text": [
      "/Users/karthik/mobilenet-reg/src\r\n"
     ]
    }
   ],
   "source": [
    "!pwd"
   ]
  },
  {
   "cell_type": "code",
   "execution_count": 90,
   "id": "angry-language",
   "metadata": {},
   "outputs": [],
   "source": [
    "import pipreqs"
   ]
  },
  {
   "cell_type": "code",
   "execution_count": 92,
   "id": "handy-venture",
   "metadata": {},
   "outputs": [
    {
     "name": "stdout",
     "output_type": "stream",
     "text": [
      "/Users/karthik/mobilenet-reg/src\r\n"
     ]
    }
   ],
   "source": [
    "!pwd"
   ]
  },
  {
   "cell_type": "code",
   "execution_count": 96,
   "id": "metric-living",
   "metadata": {},
   "outputs": [],
   "source": [
    "!pip freeze > requirements.txt"
   ]
  },
  {
   "cell_type": "code",
   "execution_count": null,
   "id": "continuous-fault",
   "metadata": {},
   "outputs": [],
   "source": []
  }
 ],
 "metadata": {
  "kernelspec": {
   "display_name": "Python 3",
   "language": "python",
   "name": "python3"
  },
  "language_info": {
   "codemirror_mode": {
    "name": "ipython",
    "version": 3
   },
   "file_extension": ".py",
   "mimetype": "text/x-python",
   "name": "python",
   "nbconvert_exporter": "python",
   "pygments_lexer": "ipython3",
   "version": "3.7.10"
  }
 },
 "nbformat": 4,
 "nbformat_minor": 5
}
