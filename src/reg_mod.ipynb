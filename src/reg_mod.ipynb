{
 "cells": [
  {
   "cell_type": "code",
   "execution_count": null,
   "id": "egyptian-significance",
   "metadata": {},
   "outputs": [],
   "source": [
    "import matplotlib"
   ]
  },
  {
   "cell_type": "code",
   "execution_count": null,
   "id": "sunrise-houston",
   "metadata": {},
   "outputs": [],
   "source": [
    "import sys\n",
    "#Rename according to your virtual - env name\n",
    "sys.path.append('/usr/local/anaconda3/envs/mob-reg/lib/python3.7/site-packages')"
   ]
  },
  {
   "cell_type": "code",
   "execution_count": null,
   "id": "stopped-field",
   "metadata": {},
   "outputs": [],
   "source": [
    "import tensorflow as tf"
   ]
  },
  {
   "cell_type": "markdown",
   "id": "fundamental-opera",
   "metadata": {},
   "source": [
    "# Extracting VGG keypoints trial"
   ]
  },
  {
   "cell_type": "code",
   "execution_count": null,
   "id": "exceptional-relation",
   "metadata": {},
   "outputs": [],
   "source": [
    "from __future__ import print_function\n",
    "import Registration\n",
    "import matplotlib.pyplot as plt\n",
    "from utils.utils import *\n",
    "import cv2\n",
    "\n",
    "# designate image path here\n",
    "IX_path = '/Users/karthik/Downloads/a.jpg'\n",
    "IY_path = '/Users/karthik/Downloads/b.jpg'\n",
    "\n",
    "IX = cv2.imread(IX_path)\n",
    "IY = cv2.imread(IY_path)\n",
    "print(IX)\n",
    "#initialize\n",
    "reg = Registration.CNN()\n",
    "#register\n",
    "X, Y, Z = reg.register(IX, IY)\n",
    "#generate regsitered image using TPS\n",
    "registered = tps_warp(Y, Z, IY, IX.shape)\n",
    "cb = checkboard(IX, registered, 11)\n",
    "\n",
    "plt.subplot(141)\n",
    "plt.title('reference')\n",
    "plt.imshow(cv2.cvtColor(IX, cv2.COLOR_BGR2RGB))\n",
    "\n",
    "plt.subplot(142)\n",
    "plt.title('other')\n",
    "plt.imshow(cv2.cvtColor(IY, cv2.COLOR_BGR2RGB))\n",
    "\n",
    "plt.subplot(143)\n",
    "plt.title('registered')\n",
    "plt.imshow(cv2.cvtColor(registered, cv2.COLOR_BGR2RGB))\n",
    "plt.subplot(144)\n",
    "plt.title('checkboard')\n",
    "plt.imshow(cv2.cvtColor(cb, cv2.COLOR_BGR2RGB))\n",
    "\n",
    "plt.show()"
   ]
  },
  {
   "cell_type": "code",
   "execution_count": null,
   "id": "interim-audio",
   "metadata": {},
   "outputs": [],
   "source": [
    "from __future__ import print_function\n",
    "import MobileNetRegistration\n",
    "import matplotlib.pyplot as plt\n",
    "from utils.utils import *\n",
    "import cv2\n",
    "\n",
    "# designate image path here\n",
    "IX_path = '/Users/karthik/Downloads/a.jpg'\n",
    "IY_path = '/Users/karthik/Downloads/b.jpg'\n",
    "\n",
    "IX = cv2.imread(IX_path)\n",
    "IY = cv2.imread(IY_path)\n",
    "print(IX)\n",
    "#initialize\n",
    "reg = MobileNetRegistration.CNN()\n",
    "#register\n",
    "hello= reg.register(IX, IY)\n"
   ]
  },
  {
   "cell_type": "code",
   "execution_count": null,
   "id": "referenced-communication",
   "metadata": {},
   "outputs": [],
   "source": [
    "import MobileNetRegistration"
   ]
  },
  {
   "cell_type": "code",
   "execution_count": null,
   "id": "limiting-divorce",
   "metadata": {},
   "outputs": [],
   "source": [
    "A.shape"
   ]
  },
  {
   "cell_type": "code",
   "execution_count": null,
   "id": "vulnerable-mistake",
   "metadata": {},
   "outputs": [],
   "source": [
    "F.shape"
   ]
  },
  {
   "cell_type": "code",
   "execution_count": null,
   "id": "italic-procedure",
   "metadata": {},
   "outputs": [],
   "source": [
    "reg.register(IX, IY)[2].shape"
   ]
  },
  {
   "cell_type": "code",
   "execution_count": null,
   "id": "frank-regulation",
   "metadata": {},
   "outputs": [],
   "source": [
    "IX.shape"
   ]
  },
  {
   "cell_type": "code",
   "execution_count": null,
   "id": "marked-reset",
   "metadata": {},
   "outputs": [],
   "source": [
    "np.expand_dims(IX, axis=0).shape"
   ]
  },
  {
   "cell_type": "code",
   "execution_count": null,
   "id": "chemical-plant",
   "metadata": {},
   "outputs": [],
   "source": [
    "np.concatenate((np.expand_dims(IY, axis=0),np.expand_dims(IY, axis=0)),axis=0).shape"
   ]
  },
  {
   "cell_type": "code",
   "execution_count": null,
   "id": "imported-bleeding",
   "metadata": {},
   "outputs": [],
   "source": [
    "reg.register(IX, IY)"
   ]
  },
  {
   "cell_type": "code",
   "execution_count": null,
   "id": "urban-weight",
   "metadata": {},
   "outputs": [],
   "source": [
    "F.shape"
   ]
  },
  {
   "cell_type": "code",
   "execution_count": null,
   "id": "instant-emission",
   "metadata": {},
   "outputs": [],
   "source": [
    "F[48]"
   ]
  },
  {
   "cell_type": "code",
   "execution_count": null,
   "id": "controlled-prime",
   "metadata": {},
   "outputs": [],
   "source": [
    "import cv2 as cv"
   ]
  },
  {
   "cell_type": "code",
   "execution_count": null,
   "id": "digital-creek",
   "metadata": {},
   "outputs": [],
   "source": [
    "akaze = cv.AKAZE_create()\n",
    "# Find the keypoints and descriptors with SIFT\n",
    "kp1, des1 = akaze.detectAndCompute(IX, None)\n",
    "kp2, des2 = akaze.detectAndCompute(IY, None)"
   ]
  },
  {
   "cell_type": "code",
   "execution_count": null,
   "id": "stainless-shooting",
   "metadata": {},
   "outputs": [],
   "source": [
    "des1.shape"
   ]
  },
  {
   "cell_type": "code",
   "execution_count": null,
   "id": "residential-great",
   "metadata": {},
   "outputs": [],
   "source": [
    "hello[0].shape"
   ]
  },
  {
   "cell_type": "code",
   "execution_count": null,
   "id": "laughing-porter",
   "metadata": {},
   "outputs": [],
   "source": [
    "hello[5].shape"
   ]
  },
  {
   "cell_type": "code",
   "execution_count": null,
   "id": "developed-palestinian",
   "metadata": {},
   "outputs": [],
   "source": [
    "bf = cv.BFMatcher()\n",
    "matches = bf.knnMatch(hello[4], hello[5], k=2)"
   ]
  },
  {
   "cell_type": "code",
   "execution_count": null,
   "id": "located-reputation",
   "metadata": {},
   "outputs": [],
   "source": [
    "good_matches = []\n",
    "for m,n in matches:\n",
    "    if m.distance < 0.75*n.distance:\n",
    "        good_matches.append([m])"
   ]
  },
  {
   "cell_type": "code",
   "execution_count": null,
   "id": "surprising-formation",
   "metadata": {},
   "outputs": [],
   "source": [
    "img3 = cv.drawMatchesKnn(IX,kp1,IY,kp2,good_matches,None,flags=cv.DrawMatchesFlags_NOT_DRAW_SINGLE_POINTS)\n",
    "cv.imwrite('matches.jpg', img3)"
   ]
  },
  {
   "cell_type": "code",
   "execution_count": null,
   "id": "atomic-cigarette",
   "metadata": {},
   "outputs": [],
   "source": [
    "plt.imshow(img3)"
   ]
  },
  {
   "cell_type": "markdown",
   "id": "elect-winner",
   "metadata": {},
   "source": [
    "# Mobilenet Implementation with keras"
   ]
  },
  {
   "cell_type": "code",
   "execution_count": null,
   "id": "concrete-israel",
   "metadata": {},
   "outputs": [],
   "source": [
    "import keras\n",
    "from keras import backend as K\n",
    "from keras.layers.core import Dense, Activation\n",
    "from keras.optimizers import Adam\n",
    "from keras.metrics import categorical_crossentropy\n",
    "from keras.preprocessing.image import ImageDataGenerator\n",
    "from keras.preprocessing import image\n",
    "from keras.models import Model\n",
    "from keras.applications import imagenet_utils\n",
    "from keras.layers import Dense,GlobalAveragePooling2D\n",
    "from keras.applications import MobileNet\n",
    "from keras.applications.mobilenet import preprocess_input\n",
    "import numpy as np\n",
    "from IPython.display import Image\n",
    "from keras.optimizers import Adam"
   ]
  },
  {
   "cell_type": "code",
   "execution_count": null,
   "id": "binding-concord",
   "metadata": {},
   "outputs": [],
   "source": [
    "tf.__version__"
   ]
  },
  {
   "cell_type": "markdown",
   "id": "southern-bacteria",
   "metadata": {},
   "source": [
    "## Preprocessing"
   ]
  },
  {
   "cell_type": "code",
   "execution_count": null,
   "id": "demographic-indianapolis",
   "metadata": {},
   "outputs": [],
   "source": [
    "mobile = keras.applications.mobilenet.MobileNet()\n",
    "def prepare_image(file):\n",
    "    img_path = '/Users/karthik/Downloads/'\n",
    "    img = image.load_img(img_path + file, target_size=(224, 224))\n",
    "    img_array = image.img_to_array(img)\n",
    "    img_array_expanded_dims = np.expand_dims(img_array, axis=0)\n",
    "    return keras.applications.mobilenet.preprocess_input(img_array_expanded_dims)"
   ]
  },
  {
   "cell_type": "code",
   "execution_count": null,
   "id": "liked-hygiene",
   "metadata": {},
   "outputs": [],
   "source": [
    "preprocessed_image = prepare_image('a.jpg')\n",
    "predictions = mobile.predict(preprocessed_image)\n",
    "results = imagenet_utils.decode_predictions(predictions)\n",
    "results"
   ]
  },
  {
   "cell_type": "code",
   "execution_count": null,
   "id": "static-pontiac",
   "metadata": {},
   "outputs": [],
   "source": [
    "!ls"
   ]
  },
  {
   "cell_type": "code",
   "execution_count": null,
   "id": "robust-belfast",
   "metadata": {},
   "outputs": [],
   "source": [
    "img_path = '/Users/karthik/Downloads/'\n",
    "img = image.load_img(img_path + 'a.jpg', target_size=(224, 224))\n",
    "img_array = image.img_to_array(img)\n",
    "img_array_expanded_dims = np.expand_dims(img_array, axis=0)"
   ]
  },
  {
   "cell_type": "code",
   "execution_count": null,
   "id": "cardiac-trainer",
   "metadata": {},
   "outputs": [],
   "source": [
    "img_array.shape"
   ]
  },
  {
   "cell_type": "code",
   "execution_count": null,
   "id": "military-perry",
   "metadata": {},
   "outputs": [],
   "source": [
    "img_array_expanded_dims.shape"
   ]
  },
  {
   "cell_type": "code",
   "execution_count": null,
   "id": "convinced-works",
   "metadata": {},
   "outputs": [],
   "source": [
    "img_array.shape"
   ]
  },
  {
   "cell_type": "code",
   "execution_count": null,
   "id": "three-fireplace",
   "metadata": {},
   "outputs": [],
   "source": [
    "mobile.summary()"
   ]
  },
  {
   "cell_type": "code",
   "execution_count": null,
   "id": "standard-miller",
   "metadata": {},
   "outputs": [],
   "source": [
    "get_3rd_layer_output = K.function([mobile.layers[0].input],\n",
    "                                  [mobile.layers[3].output])"
   ]
  },
  {
   "cell_type": "code",
   "execution_count": null,
   "id": "sitting-perfume",
   "metadata": {},
   "outputs": [],
   "source": [
    "layer_output = (get_3rd_layer_output(preprocessed_image))"
   ]
  },
  {
   "cell_type": "code",
   "execution_count": null,
   "id": "christian-booth",
   "metadata": {},
   "outputs": [],
   "source": [
    "(layer_output[0]).shape"
   ]
  },
  {
   "cell_type": "code",
   "execution_count": null,
   "id": "twenty-position",
   "metadata": {},
   "outputs": [],
   "source": []
  }
 ],
 "metadata": {
  "kernelspec": {
   "display_name": "Python 3",
   "language": "python",
   "name": "python3"
  },
  "language_info": {
   "codemirror_mode": {
    "name": "ipython",
    "version": 3
   },
   "file_extension": ".py",
   "mimetype": "text/x-python",
   "name": "python",
   "nbconvert_exporter": "python",
   "pygments_lexer": "ipython3",
   "version": "3.9.1-final"
  }
 },
 "nbformat": 4,
 "nbformat_minor": 5
}
